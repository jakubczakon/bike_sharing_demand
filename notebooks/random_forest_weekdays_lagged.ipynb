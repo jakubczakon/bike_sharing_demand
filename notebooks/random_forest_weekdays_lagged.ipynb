{
 "cells": [
  {
   "cell_type": "code",
   "execution_count": 5,
   "metadata": {
    "collapsed": false
   },
   "outputs": [
    {
     "name": "stdout",
     "output_type": "stream",
     "text": [
      "The autoreload extension is already loaded. To reload it, use:\n",
      "  %reload_ext autoreload\n"
     ]
    }
   ],
   "source": [
    "%load_ext autoreload\n",
    "%autoreload 2\n",
    "\n",
    "# from __future__ import absolute_import\n",
    "import sys\n",
    "sys.path.append(\"../\")\n",
    "\n",
    "import os\n",
    "\n",
    "import numpy as np\n",
    "import pandas as pd\n",
    "\n",
    "from sklearn.ensemble import RandomForestRegressor as RF\n",
    "from sklearn.grid_search import RandomizedSearchCV as RS\n",
    "from sklearn.pipeline import Pipeline\n",
    "from sklearn.metrics import mean_squared_error\n",
    "\n",
    "from scipy.stats import randint as sp_randint\n",
    "\n",
    "from utils.evaluation_utils import rmsle\n",
    "from utils.generic_utils import pickle_out\n",
    "from utils.preprocessing_utils import preprocess_weekdays,generate_timelag_data\n",
    "# import seaborn as sb"
   ]
  },
  {
   "cell_type": "code",
   "execution_count": 8,
   "metadata": {
    "collapsed": false
   },
   "outputs": [
    {
     "name": "stdout",
     "output_type": "stream",
     "text": [
      "   season  holiday  workingday  weather  temp   atemp  humidity  windspeed  \\\n",
      "0       1        0           0        1  9.84  14.395        81        0.0   \n",
      "1       1        0           0        1  9.02  13.635        80        0.0   \n",
      "2       1        0           0        1  9.02  13.635        80        0.0   \n",
      "3       1        0           0        1  9.84  14.395        75        0.0   \n",
      "4       1        0           0        1  9.84  14.395        75        0.0   \n",
      "\n",
      "   time_hour  date_weekday  date_month  date_year  \n",
      "0          0             5           1       2011  \n",
      "1          1             5           1       2011  \n",
      "2          2             5           1       2011  \n",
      "3          3             5           1       2011  \n",
      "4          4             5           1       2011  \n",
      "(7452, 15) (7452,)\n",
      "(7452, 15) (7452,)\n"
     ]
    }
   ],
   "source": [
    "data_folder = os.path.join(\"../\",\"datasets\",\"initial_data_split\")\n",
    "\n",
    "train = pd.read_csv(os.path.join(data_folder,\"train.csv\"))\n",
    "valid = pd.read_csv(os.path.join(data_folder,\"valid.csv\"))\n",
    "\n",
    "X_train,Y_train = preprocess_weekdays(train,mode=\"train\")\n",
    "X_valid,Y_valid = preprocess_weekdays(valid,mode=\"train\")\n",
    "\n",
    "X_train = generate_timelag_data(X_train,lag=5)\n",
    "X_valid = generate_timelag_data(X_valid,lag=5)\n",
    "\n",
    "X_train = X_train[['time_hour','date_year', 'workingday', 'atemp', 'date_month', 'temp',\n",
    " 'date_weekday', 'temp_lag_1', 'atemp_lag_1', 'humidity', 'season',\n",
    " 'humidity_lag_1', 'weather', 'weather_lag_1', 'atemp_lag_3']]\n",
    "\n",
    "X_valid = X_valid[['time_hour','date_year', 'workingday', 'atemp', 'date_month', 'temp',\n",
    " 'date_weekday', 'temp_lag_1', 'atemp_lag_1', 'humidity', 'season',\n",
    " 'humidity_lag_1', 'weather', 'weather_lag_1', 'atemp_lag_3']]\n",
    "\n",
    "print X_train.shape,Y_train.shape\n",
    "\n",
    "print X_train.shape,Y_train.shape"
   ]
  },
  {
   "cell_type": "code",
   "execution_count": 9,
   "metadata": {
    "collapsed": false
   },
   "outputs": [
    {
     "data": {
      "text/html": [
       "<div>\n",
       "<table border=\"1\" class=\"dataframe\">\n",
       "  <thead>\n",
       "    <tr style=\"text-align: right;\">\n",
       "      <th></th>\n",
       "      <th>time_hour</th>\n",
       "      <th>date_year</th>\n",
       "      <th>workingday</th>\n",
       "      <th>atemp</th>\n",
       "      <th>date_month</th>\n",
       "      <th>temp</th>\n",
       "      <th>date_weekday</th>\n",
       "      <th>temp_lag_1</th>\n",
       "      <th>atemp_lag_1</th>\n",
       "      <th>humidity</th>\n",
       "      <th>season</th>\n",
       "      <th>humidity_lag_1</th>\n",
       "      <th>weather</th>\n",
       "      <th>weather_lag_1</th>\n",
       "      <th>atemp_lag_3</th>\n",
       "    </tr>\n",
       "  </thead>\n",
       "  <tbody>\n",
       "    <tr>\n",
       "      <th>0</th>\n",
       "      <td>0</td>\n",
       "      <td>2011</td>\n",
       "      <td>0</td>\n",
       "      <td>14.395</td>\n",
       "      <td>1</td>\n",
       "      <td>9.84</td>\n",
       "      <td>5</td>\n",
       "      <td>9.84</td>\n",
       "      <td>14.395</td>\n",
       "      <td>81</td>\n",
       "      <td>1</td>\n",
       "      <td>81.0</td>\n",
       "      <td>1</td>\n",
       "      <td>1.0</td>\n",
       "      <td>14.395</td>\n",
       "    </tr>\n",
       "    <tr>\n",
       "      <th>1</th>\n",
       "      <td>1</td>\n",
       "      <td>2011</td>\n",
       "      <td>0</td>\n",
       "      <td>13.635</td>\n",
       "      <td>1</td>\n",
       "      <td>9.02</td>\n",
       "      <td>5</td>\n",
       "      <td>9.84</td>\n",
       "      <td>14.395</td>\n",
       "      <td>80</td>\n",
       "      <td>1</td>\n",
       "      <td>81.0</td>\n",
       "      <td>1</td>\n",
       "      <td>1.0</td>\n",
       "      <td>14.395</td>\n",
       "    </tr>\n",
       "    <tr>\n",
       "      <th>2</th>\n",
       "      <td>2</td>\n",
       "      <td>2011</td>\n",
       "      <td>0</td>\n",
       "      <td>13.635</td>\n",
       "      <td>1</td>\n",
       "      <td>9.02</td>\n",
       "      <td>5</td>\n",
       "      <td>9.02</td>\n",
       "      <td>13.635</td>\n",
       "      <td>80</td>\n",
       "      <td>1</td>\n",
       "      <td>80.0</td>\n",
       "      <td>1</td>\n",
       "      <td>1.0</td>\n",
       "      <td>14.395</td>\n",
       "    </tr>\n",
       "    <tr>\n",
       "      <th>3</th>\n",
       "      <td>3</td>\n",
       "      <td>2011</td>\n",
       "      <td>0</td>\n",
       "      <td>14.395</td>\n",
       "      <td>1</td>\n",
       "      <td>9.84</td>\n",
       "      <td>5</td>\n",
       "      <td>9.02</td>\n",
       "      <td>13.635</td>\n",
       "      <td>75</td>\n",
       "      <td>1</td>\n",
       "      <td>80.0</td>\n",
       "      <td>1</td>\n",
       "      <td>1.0</td>\n",
       "      <td>14.395</td>\n",
       "    </tr>\n",
       "    <tr>\n",
       "      <th>4</th>\n",
       "      <td>4</td>\n",
       "      <td>2011</td>\n",
       "      <td>0</td>\n",
       "      <td>14.395</td>\n",
       "      <td>1</td>\n",
       "      <td>9.84</td>\n",
       "      <td>5</td>\n",
       "      <td>9.84</td>\n",
       "      <td>14.395</td>\n",
       "      <td>75</td>\n",
       "      <td>1</td>\n",
       "      <td>75.0</td>\n",
       "      <td>1</td>\n",
       "      <td>1.0</td>\n",
       "      <td>13.635</td>\n",
       "    </tr>\n",
       "  </tbody>\n",
       "</table>\n",
       "</div>"
      ],
      "text/plain": [
       "   time_hour  date_year  workingday   atemp  date_month  temp  date_weekday  \\\n",
       "0          0       2011           0  14.395           1  9.84             5   \n",
       "1          1       2011           0  13.635           1  9.02             5   \n",
       "2          2       2011           0  13.635           1  9.02             5   \n",
       "3          3       2011           0  14.395           1  9.84             5   \n",
       "4          4       2011           0  14.395           1  9.84             5   \n",
       "\n",
       "   temp_lag_1  atemp_lag_1  humidity  season  humidity_lag_1  weather  \\\n",
       "0        9.84       14.395        81       1            81.0        1   \n",
       "1        9.84       14.395        80       1            81.0        1   \n",
       "2        9.02       13.635        80       1            80.0        1   \n",
       "3        9.02       13.635        75       1            80.0        1   \n",
       "4        9.84       14.395        75       1            75.0        1   \n",
       "\n",
       "   weather_lag_1  atemp_lag_3  \n",
       "0            1.0       14.395  \n",
       "1            1.0       14.395  \n",
       "2            1.0       14.395  \n",
       "3            1.0       14.395  \n",
       "4            1.0       13.635  "
      ]
     },
     "execution_count": 9,
     "metadata": {},
     "output_type": "execute_result"
    }
   ],
   "source": [
    "X_train.head(5)"
   ]
  },
  {
   "cell_type": "code",
   "execution_count": 10,
   "metadata": {
    "collapsed": false
   },
   "outputs": [
    {
     "data": {
      "text/plain": [
       "RandomForestRegressor(bootstrap=True, criterion='mse', max_depth=None,\n",
       "           max_features='auto', max_leaf_nodes=None, min_samples_leaf=1,\n",
       "           min_samples_split=2, min_weight_fraction_leaf=0.0,\n",
       "           n_estimators=10, n_jobs=1, oob_score=False, random_state=None,\n",
       "           verbose=0, warm_start=False)"
      ]
     },
     "execution_count": 10,
     "metadata": {},
     "output_type": "execute_result"
    }
   ],
   "source": [
    "rf = RF()\n",
    "rf.fit(X_train,Y_train)"
   ]
  },
  {
   "cell_type": "code",
   "execution_count": 11,
   "metadata": {
    "collapsed": false
   },
   "outputs": [
    {
     "name": "stdout",
     "output_type": "stream",
     "text": [
      "0.174682998421\n",
      "0.275766625857\n"
     ]
    }
   ],
   "source": [
    "Y_train_pred = rf.predict(X_train)\n",
    "Y_valid_pred = rf.predict(X_valid)\n",
    "\n",
    "print rmsle(Y_train_pred,Y_train)\n",
    "print rmsle(Y_valid_pred,Y_valid)"
   ]
  },
  {
   "cell_type": "code",
   "execution_count": 12,
   "metadata": {
    "collapsed": false
   },
   "outputs": [
    {
     "name": "stdout",
     "output_type": "stream",
     "text": [
      "Fitting 5 folds for each of 100 candidates, totalling 500 fits\n"
     ]
    },
    {
     "name": "stderr",
     "output_type": "stream",
     "text": [
      "[Parallel(n_jobs=3)]: Done  44 tasks      | elapsed:   26.9s\n",
      "[Parallel(n_jobs=3)]: Done 194 tasks      | elapsed:  1.6min\n",
      "[Parallel(n_jobs=3)]: Done 444 tasks      | elapsed:  3.8min\n",
      "[Parallel(n_jobs=3)]: Done 500 out of 500 | elapsed:  4.4min finished\n"
     ]
    }
   ],
   "source": [
    "steps = [('random_forest', RF(n_estimators=100))]\n",
    "\n",
    "pipe= Pipeline(steps)\n",
    "\n",
    "param_dist = {\"random_forest__max_depth\": [5,10,15,20],\n",
    "              \"random_forest__max_features\": sp_randint(1, 6),\n",
    "              \"random_forest__min_samples_split\": sp_randint(1, 6),\n",
    "              \"random_forest__min_samples_leaf\": sp_randint(1, 6)\n",
    "              }\n",
    "\n",
    "rf_cv = RS(pipe, \n",
    "           param_distributions=param_dist,\n",
    "           n_iter=100,           \n",
    "           cv=5,\n",
    "           verbose=1,\n",
    "           n_jobs=3,\n",
    "          )\n",
    "rf_cv.fit(X_train, Y_train)\n",
    "\n",
    "Y_valid_pred = rf_cv.predict(X_valid)\n",
    "valid_score = rmsle(Y_valid_pred,Y_valid)"
   ]
  },
  {
   "cell_type": "code",
   "execution_count": 13,
   "metadata": {
    "collapsed": false
   },
   "outputs": [
    {
     "name": "stdout",
     "output_type": "stream",
     "text": [
      "{'random_forest__min_samples_split': 2, 'random_forest__min_samples_leaf': 1, 'random_forest__max_features': 5, 'random_forest__max_depth': 20}\n",
      "0.414095433405\n"
     ]
    }
   ],
   "source": [
    "print rf_cv.best_params_\n",
    "print valid_score"
   ]
  },
  {
   "cell_type": "code",
   "execution_count": 14,
   "metadata": {
    "collapsed": false
   },
   "outputs": [
    {
     "name": "stdout",
     "output_type": "stream",
     "text": [
      "1 0.511338802242\n",
      "2 0.542134872016\n",
      "3 0.539792152793\n",
      "5 0.460386022827\n",
      "10 0.485282787597\n",
      "50 0.40650818771\n",
      "100 0.413724499659\n",
      "200 0.42054596885\n",
      "300 0.42145827527\n",
      "500 0.417096210273\n",
      "1000 0.421804169873\n"
     ]
    }
   ],
   "source": [
    "number_of_trees = [1,2,3,5,10,50,100,200,300,500,1000]\n",
    "\n",
    "for nr in number_of_trees:\n",
    "    rf = RF(n_estimators=nr,\n",
    "            max_features = 5,\n",
    "            min_samples_split = 2,\n",
    "            min_samples_leaf = 1,\n",
    "            max_depth = 20\n",
    "           )\n",
    "    rf.fit(X_train, Y_train)\n",
    "    Y_valid_pred = rf.predict(X_valid)\n",
    "    valid_score = rmsle(Y_valid_pred,Y_valid)\n",
    "    print nr, valid_score"
   ]
  },
  {
   "cell_type": "code",
   "execution_count": 17,
   "metadata": {
    "collapsed": false
   },
   "outputs": [
    {
     "data": {
      "text/plain": [
       "RandomForestRegressor(bootstrap=True, criterion='mse', max_depth=20,\n",
       "           max_features=5, max_leaf_nodes=None, min_samples_leaf=1,\n",
       "           min_samples_split=2, min_weight_fraction_leaf=0.0,\n",
       "           n_estimators=100, n_jobs=1, oob_score=False, random_state=None,\n",
       "           verbose=0, warm_start=False)"
      ]
     },
     "execution_count": 17,
     "metadata": {},
     "output_type": "execute_result"
    }
   ],
   "source": [
    "rf = RF(n_estimators = 100,\n",
    "        max_features = 5,\n",
    "        min_samples_split = 2,\n",
    "        min_samples_leaf = 1,\n",
    "        max_depth = 20,\n",
    "       )\n",
    "rf.fit(X_train,Y_train)"
   ]
  },
  {
   "cell_type": "code",
   "execution_count": 18,
   "metadata": {
    "collapsed": false
   },
   "outputs": [
    {
     "name": "stdout",
     "output_type": "stream",
     "text": [
      "0.429213235563\n"
     ]
    }
   ],
   "source": [
    "Y_valid_pred = rf.predict(X_valid)\n",
    "valid_score = rmsle(Y_valid_pred,Y_valid)\n",
    "print valid_score"
   ]
  },
  {
   "cell_type": "code",
   "execution_count": 19,
   "metadata": {
    "collapsed": false
   },
   "outputs": [],
   "source": [
    "model_filepath = os.path.join(\"../\",\"models\",\"random_forest_weekdays_lagged.pkl\")\n",
    "pickle_out(model_filepath,rf,compresion_mode=9)"
   ]
  },
  {
   "cell_type": "code",
   "execution_count": null,
   "metadata": {
    "collapsed": true
   },
   "outputs": [],
   "source": []
  }
 ],
 "metadata": {
  "kernelspec": {
   "display_name": "Python 2",
   "language": "python",
   "name": "python2"
  },
  "language_info": {
   "codemirror_mode": {
    "name": "ipython",
    "version": 2
   },
   "file_extension": ".py",
   "mimetype": "text/x-python",
   "name": "python",
   "nbconvert_exporter": "python",
   "pygments_lexer": "ipython2",
   "version": "2.7.11"
  }
 },
 "nbformat": 4,
 "nbformat_minor": 0
}
