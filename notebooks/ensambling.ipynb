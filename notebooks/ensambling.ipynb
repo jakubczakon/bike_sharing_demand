{
 "cells": [
  {
   "cell_type": "code",
   "execution_count": 54,
   "metadata": {
    "collapsed": false
   },
   "outputs": [
    {
     "name": "stdout",
     "output_type": "stream",
     "text": [
      "The autoreload extension is already loaded. To reload it, use:\n",
      "  %reload_ext autoreload\n"
     ]
    }
   ],
   "source": [
    "%matplotlib inline\n",
    "%load_ext autoreload\n",
    "%autoreload 2\n",
    "\n",
    "# from __future__ import absolute_import\n",
    "import sys\n",
    "sys.path.append(\"../\")\n",
    "\n",
    "import os\n",
    "from copy import copy\n",
    "\n",
    "import numpy as np\n",
    "import pandas as pd\n",
    "\n",
    "\n",
    "from scipy.stats import randint as sp_randint\n",
    "\n",
    "from utils.evaluation_utils import rmsle,log_pandas,inv_log_pandas\n",
    "from utils.generic_utils import pickle_out\n",
    "import utils.preprocessing_utils as prep"
   ]
  },
  {
   "cell_type": "code",
   "execution_count": 52,
   "metadata": {
    "collapsed": false
   },
   "outputs": [
    {
     "name": "stdout",
     "output_type": "stream",
     "text": [
      "random_forest_just_time_submision.csv\n",
      "              datetime  count\n",
      "0  2011-01-20 00:00:00  8.354\n",
      "1  2011-01-20 01:00:00  3.606\n",
      "2  2011-01-20 02:00:00  2.358\n",
      "3  2011-01-20 03:00:00  3.030\n",
      "4  2011-01-20 04:00:00  3.442\n",
      "1\n",
      "random_forest_weekdays_submission.csv\n",
      "              datetime      count\n",
      "0  2011-01-20 00:00:00  10.807449\n",
      "1  2011-01-20 01:00:00   5.512882\n",
      "2  2011-01-20 02:00:00   3.399814\n",
      "3  2011-01-20 03:00:00   3.356646\n",
      "4  2011-01-20 04:00:00   3.045574\n",
      "2\n",
      "rolling_random_forest_submission.csv\n",
      "              datetime   count\n",
      "0  2011-01-20 00:00:00  22.593\n",
      "1  2011-01-20 01:00:00   7.940\n",
      "2  2011-01-20 02:00:00   6.147\n",
      "3  2011-01-20 03:00:00   4.828\n",
      "4  2011-01-20 04:00:00   4.744\n",
      "3\n",
      "weekdays_lagged_random_forest_submission.csv\n",
      "              datetime     count\n",
      "0  2011-01-20 00:00:00  9.791667\n",
      "1  2011-01-20 01:00:00  5.539667\n",
      "2  2011-01-20 02:00:00  4.001667\n",
      "3  2011-01-20 03:00:00  3.931667\n",
      "4  2011-01-20 04:00:00  4.561667\n",
      "4\n",
      "gbm_simple_features_submission.csv\n",
      "              datetime      count\n",
      "0  2011-01-20 00:00:00  10.514615\n",
      "1  2011-01-20 01:00:00   4.419258\n",
      "2  2011-01-20 02:00:00   3.428708\n",
      "3  2011-01-20 03:00:00   2.816271\n",
      "4  2011-01-20 04:00:00   1.878826\n",
      "5\n",
      "random_forest_simple_features_submision.csv\n",
      "              datetime     count\n",
      "0  2011-01-20 00:00:00  9.251087\n",
      "1  2011-01-20 01:00:00  3.339143\n",
      "2  2011-01-20 02:00:00  1.980900\n",
      "3  2011-01-20 03:00:00  2.783800\n",
      "4  2011-01-20 04:00:00  3.228071\n",
      "6\n",
      "random_forest_simple_features_5_submision.csv\n",
      "              datetime     count\n",
      "0  2011-01-20 00:00:00  9.860884\n",
      "1  2011-01-20 01:00:00  3.814496\n",
      "2  2011-01-20 02:00:00  2.622181\n",
      "3  2011-01-20 03:00:00  3.081559\n",
      "4  2011-01-20 04:00:00  2.578040\n",
      "7\n",
      "random_forest_simple_features_2_submision.csv\n",
      "              datetime     count\n",
      "0  2011-01-20 00:00:00  9.103295\n",
      "1  2011-01-20 01:00:00  3.290152\n",
      "2  2011-01-20 02:00:00  2.039967\n",
      "3  2011-01-20 03:00:00  2.568333\n",
      "4  2011-01-20 04:00:00  3.121000\n",
      "8\n",
      "weekdays_random_forest_submission.csv\n",
      "              datetime   count\n",
      "0  2011-01-20 00:00:00  10.502\n",
      "1  2011-01-20 01:00:00   5.278\n",
      "2  2011-01-20 02:00:00   3.688\n",
      "3  2011-01-20 03:00:00   3.928\n",
      "4  2011-01-20 04:00:00   3.456\n",
      "9\n",
      "rf_simple_features_best_submission.csv\n",
      "              datetime      count\n",
      "0  2011-01-20 00:00:00  10.027556\n",
      "1  2011-01-20 01:00:00   3.805428\n",
      "2  2011-01-20 02:00:00   2.564287\n",
      "3  2011-01-20 03:00:00   3.069140\n",
      "4  2011-01-20 04:00:00   2.553922\n",
      "10\n",
      "random_forest_simple_features_4_submision.csv\n",
      "              datetime     count\n",
      "0  2011-01-20 00:00:00  9.664581\n",
      "1  2011-01-20 01:00:00  3.655249\n",
      "2  2011-01-20 02:00:00  2.739980\n",
      "3  2011-01-20 03:00:00  3.179337\n",
      "4  2011-01-20 04:00:00  2.641758\n",
      "11\n",
      "random_forest_simple_features_3_submision.csv\n",
      "              datetime     count\n",
      "0  2011-01-20 00:00:00  9.118469\n",
      "1  2011-01-20 01:00:00  3.786430\n",
      "2  2011-01-20 02:00:00  2.533048\n",
      "3  2011-01-20 03:00:00  2.493537\n",
      "4  2011-01-20 04:00:00  2.477670\n",
      "12\n",
      "weekdays_important_random_forest_submission.csv\n",
      "              datetime      count\n",
      "0  2011-01-20 00:00:00  11.207681\n",
      "1  2011-01-20 01:00:00   4.625395\n",
      "2  2011-01-20 02:00:00   3.484807\n",
      "3  2011-01-20 03:00:00   3.862517\n",
      "4  2011-01-20 04:00:00   3.285333\n",
      "13\n",
      "              datetime      count\n",
      "0  2011-01-20 00:00:00  10.830483\n",
      "1  2011-01-20 01:00:00   4.508623\n",
      "2  2011-01-20 02:00:00   3.152951\n",
      "3  2011-01-20 03:00:00   3.302216\n",
      "4  2011-01-20 04:00:00   3.154912\n"
     ]
    }
   ],
   "source": [
    "submissions_folder = os.path.join(\"../\",\"submissions\")\n",
    "k=1\n",
    "for i,submission in enumerate(os.listdir(submissions_folder)):\n",
    "    \n",
    "    if \"blend\" in submission:\n",
    "        continue\n",
    "        \n",
    "    try:\n",
    "        subm = pd.read_csv(os.path.join(submissions_folder,submission))\n",
    "    except Exception:\n",
    "        continue\n",
    "    if i==0:\n",
    "        submission_all = subm\n",
    "    else:\n",
    "        submission_all[\"count\"] = submission_all[\"count\"] + subm[\"count\"]\n",
    "        k+=1\n",
    "blend_result = submission_all\n",
    "blend_result[\"count\"] = blend_result[\"count\"]/k\n",
    "print blend_result.head()"
   ]
  },
  {
   "cell_type": "code",
   "execution_count": 53,
   "metadata": {
    "collapsed": true
   },
   "outputs": [],
   "source": [
    "blend_result.to_csv(os.path.join(\"../\",\"submissions\",\n",
    "                                    \"simple_blend_result_submission.csv\"),index=False)"
   ]
  },
  {
   "cell_type": "code",
   "execution_count": null,
   "metadata": {
    "collapsed": true
   },
   "outputs": [],
   "source": []
  }
 ],
 "metadata": {
  "kernelspec": {
   "display_name": "Python 2",
   "language": "python",
   "name": "python2"
  },
  "language_info": {
   "codemirror_mode": {
    "name": "ipython",
    "version": 2
   },
   "file_extension": ".py",
   "mimetype": "text/x-python",
   "name": "python",
   "nbconvert_exporter": "python",
   "pygments_lexer": "ipython2",
   "version": "2.7.11"
  }
 },
 "nbformat": 4,
 "nbformat_minor": 0
}
