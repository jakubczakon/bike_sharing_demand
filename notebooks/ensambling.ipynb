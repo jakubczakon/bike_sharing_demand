{
 "cells": [
  {
   "cell_type": "code",
   "execution_count": 2,
   "metadata": {
    "collapsed": false
   },
   "outputs": [],
   "source": [
    "%matplotlib inline\n",
    "%load_ext autoreload\n",
    "%autoreload 2\n",
    "\n",
    "# from __future__ import absolute_import\n",
    "import sys\n",
    "sys.path.append(\"../\")\n",
    "\n",
    "import os\n",
    "from copy import copy\n",
    "\n",
    "import numpy as np\n",
    "import pandas as pd\n",
    "\n",
    "\n",
    "from scipy.stats import randint as sp_randint\n",
    "\n",
    "from utils.evaluation_utils import rmsle,log_pandas,inv_log_pandas\n",
    "from utils.generic_utils import pickle_out\n",
    "import utils.preprocessing_utils as prep"
   ]
  },
  {
   "cell_type": "code",
   "execution_count": 3,
   "metadata": {
    "collapsed": false
   },
   "outputs": [],
   "source": [
    "submissions_folder = os.path.join(\"../\",\"submissions\")\n",
    "k=1\n",
    "for i,submission in enumerate(os.listdir(submissions_folder)):\n",
    "    \n",
    "    if \"blend\" in submission:\n",
    "        continue\n",
    "        \n",
    "    try:\n",
    "        subm = pd.read_csv(os.path.join(submissions_folder,submission))\n",
    "    except Exception:\n",
    "        continue\n",
    "    if i==0:\n",
    "        submission_all = subm\n",
    "    else:\n",
    "        submission_all[\"count_%s\"%i] = subm[\"count\"]\n",
    "        k+=1"
   ]
  },
  {
   "cell_type": "code",
   "execution_count": 4,
   "metadata": {
    "collapsed": false
   },
   "outputs": [
    {
     "name": "stdout",
     "output_type": "stream",
     "text": [
      "              datetime  count    count_1  count_3   count_4    count_5  \\\n",
      "0  2011-01-20 00:00:00  8.354  10.807449   22.593  9.791667  10.514615   \n",
      "1  2011-01-20 01:00:00  3.606   5.512882    7.940  5.539667   4.419258   \n",
      "2  2011-01-20 02:00:00  2.358   3.399814    6.147  4.001667   3.428708   \n",
      "3  2011-01-20 03:00:00  3.030   3.356646    4.828  3.931667   2.816271   \n",
      "4  2011-01-20 04:00:00  3.442   3.045574    4.744  4.561667   1.878826   \n",
      "\n",
      "    count_6   count_7   count_8  count_10   count_11  count_12  count_13  \\\n",
      "0  9.251087  9.860884  9.103295    10.502  10.027556  9.664581  9.118469   \n",
      "1  3.339143  3.814496  3.290152     5.278   3.805428  3.655249  3.786430   \n",
      "2  1.980900  2.622181  2.039967     3.688   2.564287  2.739980  2.533048   \n",
      "3  2.783800  3.081559  2.568333     3.928   3.069140  3.179337  2.493537   \n",
      "4  3.228071  2.578040  3.121000     3.456   2.553922  2.641758  2.477670   \n",
      "\n",
      "    count_14  \n",
      "0  11.207681  \n",
      "1   4.625395  \n",
      "2   3.484807  \n",
      "3   3.862517  \n",
      "4   3.285333  \n"
     ]
    },
    {
     "ename": "NameError",
     "evalue": "name 'final' is not defined",
     "output_type": "error",
     "traceback": [
      "\u001b[1;31m---------------------------------------------------------------------------\u001b[0m",
      "\u001b[1;31mNameError\u001b[0m                                 Traceback (most recent call last)",
      "\u001b[1;32m<ipython-input-4-2d3799b451d7>\u001b[0m in \u001b[0;36m<module>\u001b[1;34m()\u001b[0m\n\u001b[0;32m      1\u001b[0m \u001b[1;32mprint\u001b[0m \u001b[0msubmission_all\u001b[0m\u001b[1;33m.\u001b[0m\u001b[0mhead\u001b[0m\u001b[1;33m(\u001b[0m\u001b[1;33m)\u001b[0m\u001b[1;33m\u001b[0m\u001b[0m\n\u001b[0;32m      2\u001b[0m \u001b[0mjust_counts\u001b[0m \u001b[1;33m=\u001b[0m \u001b[0msubmission_all\u001b[0m\u001b[1;33m.\u001b[0m\u001b[0mdrop\u001b[0m\u001b[1;33m(\u001b[0m\u001b[1;33m[\u001b[0m\u001b[1;34m\"datetime\"\u001b[0m\u001b[1;33m]\u001b[0m\u001b[1;33m,\u001b[0m\u001b[0maxis\u001b[0m\u001b[1;33m=\u001b[0m\u001b[1;36m1\u001b[0m\u001b[1;33m)\u001b[0m\u001b[1;33m\u001b[0m\u001b[0m\n\u001b[1;32m----> 3\u001b[1;33m \u001b[0mfinal\u001b[0m\u001b[1;33m[\u001b[0m\u001b[1;34m\"counts\"\u001b[0m\u001b[1;33m]\u001b[0m \u001b[1;33m=\u001b[0m \u001b[0mjust_counts\u001b[0m\u001b[1;33m.\u001b[0m\u001b[0mmean\u001b[0m\u001b[1;33m(\u001b[0m\u001b[0maxis\u001b[0m\u001b[1;33m=\u001b[0m\u001b[1;36m1\u001b[0m\u001b[1;33m)\u001b[0m\u001b[1;33m\u001b[0m\u001b[0m\n\u001b[0m\u001b[0;32m      4\u001b[0m \u001b[0mfinal\u001b[0m\u001b[1;33m[\u001b[0m\u001b[1;34m\"datetime\"\u001b[0m\u001b[1;33m]\u001b[0m \u001b[1;33m=\u001b[0m \u001b[0msubmission_all\u001b[0m\u001b[1;33m[\u001b[0m\u001b[1;34m\"datetime\"\u001b[0m\u001b[1;33m]\u001b[0m\u001b[1;33m\u001b[0m\u001b[0m\n\u001b[0;32m      5\u001b[0m \u001b[1;32mprint\u001b[0m \u001b[0mfinal\u001b[0m\u001b[1;33m.\u001b[0m\u001b[0mhead\u001b[0m\u001b[1;33m(\u001b[0m\u001b[1;33m)\u001b[0m\u001b[1;33m\u001b[0m\u001b[0m\n",
      "\u001b[1;31mNameError\u001b[0m: name 'final' is not defined"
     ]
    }
   ],
   "source": [
    "print submission_all.head()\n",
    "just_counts = submission_all.drop([\"datetime\"],axis=1)\n",
    "final[\"counts\"] = just_counts.mean(axis=1)\n",
    "final[\"datetime\"] = submission_all[\"datetime\"]\n",
    "print final.head()"
   ]
  },
  {
   "cell_type": "code",
   "execution_count": 53,
   "metadata": {
    "collapsed": true
   },
   "outputs": [],
   "source": [
    "blend_result.to_csv(os.path.join(\"../\",\"submissions\",\n",
    "                                    \"simple_blend_result_submission.csv\"),index=False)"
   ]
  },
  {
   "cell_type": "code",
   "execution_count": null,
   "metadata": {
    "collapsed": true
   },
   "outputs": [],
   "source": []
  }
 ],
 "metadata": {
  "kernelspec": {
   "display_name": "Python 2",
   "language": "python",
   "name": "python2"
  },
  "language_info": {
   "codemirror_mode": {
    "name": "ipython",
    "version": 2
   },
   "file_extension": ".py",
   "mimetype": "text/x-python",
   "name": "python",
   "nbconvert_exporter": "python",
   "pygments_lexer": "ipython2",
   "version": "2.7.11"
  }
 },
 "nbformat": 4,
 "nbformat_minor": 0
}
