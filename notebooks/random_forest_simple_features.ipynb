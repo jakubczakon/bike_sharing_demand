{
 "cells": [
  {
   "cell_type": "code",
   "execution_count": 1,
   "metadata": {
    "collapsed": false
   },
   "outputs": [],
   "source": [
    "%matplotlib inline\n",
    "%load_ext autoreload\n",
    "%autoreload 2\n",
    "\n",
    "# from __future__ import absolute_import\n",
    "import sys\n",
    "sys.path.append(\"../\")\n",
    "\n",
    "import os\n",
    "from copy import copy\n",
    "\n",
    "import numpy as np\n",
    "import pandas as pd\n",
    "\n",
    "from matplotlib import pylab as plt\n",
    "import seaborn as sns\n",
    "\n",
    "from random import choice\n",
    "\n",
    "from sklearn.preprocessing import OneHotEncoder\n",
    "from sklearn.ensemble import RandomForestRegressor \n",
    "from sklearn.grid_search import RandomizedSearchCV \n",
    "from sklearn.pipeline import Pipeline\n",
    "from sklearn.metrics import mean_squared_error\n",
    "from sklearn.feature_selection import SelectKBest\n",
    "\n",
    "from scipy.stats import randint as sp_randint\n",
    "\n",
    "from utils.evaluation_utils import rmsle\n",
    "from utils.generic_utils import pickle_out\n",
    "import utils.preprocessing_utils as prep"
   ]
  },
  {
   "cell_type": "code",
   "execution_count": 15,
   "metadata": {
    "collapsed": false,
    "scrolled": false
   },
   "outputs": [
    {
     "name": "stdout",
     "output_type": "stream",
     "text": [
      "(7452, 10) (7452,)\n",
      "(1722, 10) (1722,)\n"
     ]
    }
   ],
   "source": [
    "data_folder = os.path.join(\"../\",\"datasets\",\"initial_data_split\")\n",
    "\n",
    "train = pd.read_csv(os.path.join(data_folder,\"train.csv\"))\n",
    "valid = pd.read_csv(os.path.join(data_folder,\"valid.csv\"))\n",
    "\n",
    "X_train = train.drop([\"registered\",\"casual\"], axis=1)\n",
    "Y_train = train[[\"count\"]].values.ravel()\n",
    "\n",
    "X_valid = valid.drop([\"registered\",\"casual\"], axis=1)\n",
    "Y_valid = valid[[\"count\"]].values.ravel()\n",
    "\n",
    "print X_train.shape,Y_train.shape\n",
    "print X_valid.shape,Y_valid.shape"
   ]
  },
  {
   "cell_type": "code",
   "execution_count": 3,
   "metadata": {
    "collapsed": false
   },
   "outputs": [
    {
     "name": "stdout",
     "output_type": "stream",
     "text": [
      "(7452, 13) (1722, 13)\n"
     ]
    }
   ],
   "source": [
    "get_variables =['weather','date_year','workingday','time_hour',\n",
    "                'temp','date_weekday','date_month','datetime']\n",
    "encode_variables =['weather','date_year','workingday',]\n",
    "\n",
    "encoding_steps = [[('encode_label_%s'%var,prep.PandasLabelEncoder(colname=var)),\\\n",
    "        ('encode_one_hot_%s'%var,prep.PandasOneHotEncoder(colname=var,\n",
    "                                                                  drop_colname=True))] for var in encode_variables]\n",
    "encoding_steps = [en_st for sublist in encoding_steps for en_st in sublist ]\n",
    "\n",
    "prep_steps = [('extract_times', prep.ExtractTimes()),\n",
    "#               ('lagging_count',prep.LaggingValues(colname=\"count\",lag=5)),\n",
    "              ('date_to_number',prep.DateToNumber(colname=\"datetime\")),\n",
    "               ('get_variables',prep.ExtractColumns(colnames = get_variables))\n",
    "             ]+\\\n",
    "               encoding_steps\n",
    "\n",
    "\n",
    "prep_pipe= Pipeline(prep_steps)\n",
    "# prep_pipe.fit(X_train)\n",
    "X_train = prep_pipe.fit_transform(X_train,Y_train)\n",
    "X_valid = prep_pipe.transform(X_valid)\n",
    "print X_train.shape,X_valid.shape"
   ]
  },
  {
   "cell_type": "code",
   "execution_count": 4,
   "metadata": {
    "collapsed": false
   },
   "outputs": [
    {
     "name": "stdout",
     "output_type": "stream",
     "text": [
      "          datetime\n",
      "count  7452.000000\n",
      "mean    510.535427\n",
      "std       6.908918\n",
      "min     499.000000\n",
      "25%     505.000000\n",
      "50%     511.000000\n",
      "75%     517.000000\n",
      "max     522.000000\n"
     ]
    }
   ],
   "source": [
    "print X_train[['datetime']].describe()"
   ]
  },
  {
   "cell_type": "code",
   "execution_count": 5,
   "metadata": {
    "collapsed": false,
    "scrolled": true
   },
   "outputs": [
    {
     "data": {
      "text/plain": [
       "RandomForestRegressor(bootstrap=True, criterion='mse', max_depth=None,\n",
       "           max_features='auto', max_leaf_nodes=None, min_samples_leaf=1,\n",
       "           min_samples_split=2, min_weight_fraction_leaf=0.0,\n",
       "           n_estimators=100, n_jobs=3, oob_score=True, random_state=None,\n",
       "           verbose=0, warm_start=False)"
      ]
     },
     "execution_count": 5,
     "metadata": {},
     "output_type": "execute_result"
    }
   ],
   "source": [
    "rf =  RandomForestRegressor(n_jobs=3,oob_score=True,\n",
    "                            n_estimators=100)\n",
    "rf.fit(X_train,Y_train)"
   ]
  },
  {
   "cell_type": "code",
   "execution_count": 6,
   "metadata": {
    "collapsed": false
   },
   "outputs": [
    {
     "name": "stdout",
     "output_type": "stream",
     "text": [
      "0.154123268732 0.271054530755\n",
      "0.945675005422\n"
     ]
    }
   ],
   "source": [
    "Y_train_pred = rf.predict(X_train)\n",
    "Y_valid_pred = rf.predict(X_valid)\n",
    "train_error = rmsle(Y_train_pred,Y_train)\n",
    "valid_error = rmsle(Y_valid_pred,Y_valid)\n",
    "print train_error,valid_error\n",
    "print rf.oob_score_"
   ]
  },
  {
   "cell_type": "code",
   "execution_count": 80,
   "metadata": {
    "collapsed": true
   },
   "outputs": [
    {
     "name": "stdout",
     "output_type": "stream",
     "text": [
      "Number of features: 59\n",
      "-9.58856639326\n",
      "current error: 0.411433606739\n",
      "Number of features: 54\n",
      "-0.0315911617154\n",
      "current error: 0.379842445024\n",
      "Number of features: 49\n",
      "0.0109851264268\n",
      "current error: 0.390827571451\n",
      "Number of features: 44\n",
      "2.01518193372e-05\n",
      "current error: 0.39084772327\n",
      "Number of features: 39\n",
      "0.021804108721\n",
      "current error: 0.412651831991\n",
      "Number of features: 34\n",
      "-0.00378202340047\n",
      "current error: 0.408869808591\n",
      "Number of features: 29\n",
      "-0.0313766956934\n",
      "current error: 0.377493112897\n",
      "Number of features: 24\n",
      "-0.0289780341286\n",
      "current error: 0.348515078768\n",
      "(7452, 19) (1722, 19)\n"
     ]
    }
   ],
   "source": [
    "selection_steps = [(\"rf_selector\",prep.RandomForestFeatureSelector(n_estimators = 10,\n",
    "                                                                   drop_rate = 5,\n",
    "                                                                   feature_threshold = 20,\n",
    "                                                                   max_error_increase = 0.05\n",
    "                                                                  ))\n",
    "                  ]\n",
    "\n",
    "select_pipe = Pipeline(selection_steps)\n",
    "X_train = select_pipe.fit_transform(X_train,Y_train)\n",
    "X_valid = select_pipe.transform(X_valid)\n",
    "print X_train.shape,X_valid.shape"
   ]
  },
  {
   "cell_type": "code",
   "execution_count": 11,
   "metadata": {
    "collapsed": false,
    "scrolled": true
   },
   "outputs": [
    {
     "name": "stdout",
     "output_type": "stream",
     "text": [
      "Iteration:0\n",
      "\n",
      "max_depth:25\n",
      "max_features:3\n",
      "min_samples_split:2\n",
      "min_samples_leaf:2\n",
      "\n",
      "Train rmsle:0.405002092758\n",
      "Train rmsle:0.499152273436\n",
      "\n",
      "Iteration:1\n",
      "\n",
      "max_depth:20\n",
      "max_features:4\n",
      "min_samples_split:1\n",
      "min_samples_leaf:2\n",
      "\n",
      "Train rmsle:0.336402269032\n",
      "Train rmsle:0.414324218522\n",
      "\n",
      "Iteration:2\n",
      "\n",
      "max_depth:15\n",
      "max_features:6\n",
      "min_samples_split:1\n",
      "min_samples_leaf:1\n",
      "\n",
      "Train rmsle:0.183744721425\n",
      "Train rmsle:0.29880916273\n",
      "\n",
      "Iteration:3\n",
      "\n",
      "max_depth:None\n",
      "max_features:4\n",
      "min_samples_split:2\n",
      "min_samples_leaf:1\n",
      "\n",
      "Train rmsle:0.182718175763\n",
      "Train rmsle:0.359539002204\n",
      "\n",
      "Iteration:4\n",
      "\n",
      "max_depth:30\n",
      "max_features:5\n",
      "min_samples_split:1\n",
      "min_samples_leaf:1\n",
      "\n",
      "Train rmsle:0.167130104214\n",
      "Train rmsle:0.31685154171\n",
      "\n",
      "Iteration:5\n",
      "\n",
      "max_depth:35\n",
      "max_features:7\n",
      "min_samples_split:2\n",
      "min_samples_leaf:2\n",
      "\n",
      "Train rmsle:0.235117609317\n",
      "Train rmsle:0.292993649833\n",
      "\n",
      "Iteration:6\n",
      "\n",
      "max_depth:20\n",
      "max_features:6\n",
      "min_samples_split:1\n",
      "min_samples_leaf:2\n",
      "\n",
      "Train rmsle:0.258526771879\n",
      "Train rmsle:0.317355028062\n",
      "\n",
      "Iteration:7\n",
      "\n",
      "max_depth:25\n",
      "max_features:5\n",
      "min_samples_split:2\n",
      "min_samples_leaf:1\n",
      "\n",
      "Train rmsle:0.169729434901\n",
      "Train rmsle:0.320895558416\n",
      "\n",
      "Iteration:8\n",
      "\n",
      "max_depth:None\n",
      "max_features:3\n",
      "min_samples_split:2\n",
      "min_samples_leaf:2\n",
      "\n",
      "Train rmsle:0.426426653981\n",
      "Train rmsle:0.542254665567\n",
      "\n",
      "Iteration:9\n",
      "\n",
      "max_depth:20\n",
      "max_features:3\n",
      "min_samples_split:2\n",
      "min_samples_leaf:1\n",
      "\n",
      "Train rmsle:0.204201942553\n",
      "Train rmsle:0.423694990391\n",
      "\n"
     ]
    }
   ],
   "source": [
    "param_dist = {\"max_depth\": [15,20,25,30,35,None],\n",
    "              \"max_features\": range(3,8,1),\n",
    "              \"min_samples_split\": range(1,3,1),\n",
    "              \"min_samples_leaf\": range(1,3,1)\n",
    "              }\n",
    "\n",
    "rolling_hyperparams = []\n",
    "with open(os.path.join(\"../\",\"models\",\"random_forest_simple_hyperparams.txt\"),\"wb\") as f:\n",
    "\n",
    "    for i in range(10):\n",
    "        print \"Iteration:%s\\n\"%i\n",
    "        md = choice(param_dist[\"max_depth\"])\n",
    "        print \"max_depth:%s\"%md\n",
    "        mf = choice(param_dist[\"max_features\"])\n",
    "        print \"max_features:%s\"%mf\n",
    "        ms = choice(param_dist[\"min_samples_split\"])\n",
    "        print \"min_samples_split:%s\"%ms\n",
    "        ml = choice(param_dist[\"min_samples_leaf\"])\n",
    "        print \"min_samples_leaf:%s\\n\"%ml\n",
    "\n",
    "        rf = RandomForestRegressor(n_estimators=200,n_jobs=3,verbose=0,\n",
    "                max_depth = md,\n",
    "                max_features=mf,\n",
    "                min_samples_split=ms,\n",
    "                min_samples_leaf=ml,\n",
    "               )\n",
    "        rf.fit(X_train,Y_train)\n",
    "\n",
    "        Y_train_pred = rf.predict(X_train)\n",
    "        Y_valid_pred = rf.predict(X_valid)\n",
    "        train_error = rmsle(Y_train_pred,Y_train)\n",
    "        valid_error = rmsle(Y_valid_pred,Y_valid)\n",
    "        print \"Train rmsle:%s\"%train_error\n",
    "        print \"Train rmsle:%s\\n\"%valid_error\n",
    "        f.write(\"iteration:%s max_depth:%s max_features:%s min_samples_split:%s \"\\\n",
    "        \"min_samples_leaf:%s \"\\\n",
    "        \"train_error:%s valid_error:%s\\n\"%(i,md,mf,ms,ml,train_error,valid_error))\n",
    "        \n",
    "        rolling_hyperparams.append([md,mf,ms,ml,train_error,valid_error])\n",
    "rolling_hyperparams = pd.DataFrame(np.vstack(np.array(rolling_hyperparams)))\n",
    "rolling_hyperparams.columns = ['max_depth', 'max_features','min_samples_split',\n",
    "                               'min_samples_leaf','train_error','valid_error'\n",
    "                              ]\n",
    "\n",
    "pickle_out(os.path.join(\"../\",\"models\",\"random_forest_simple_faetures_hyperparams.pkl\"),rolling_hyperparams)"
   ]
  },
  {
   "cell_type": "code",
   "execution_count": 12,
   "metadata": {
    "collapsed": false
   },
   "outputs": [
    {
     "name": "stdout",
     "output_type": "stream",
     "text": [
      "  max_depth max_features min_samples_split min_samples_leaf train_error  \\\n",
      "5        35            7                 2                2    0.235118   \n",
      "2        15            6                 1                1    0.183745   \n",
      "4        30            5                 1                1     0.16713   \n",
      "6        20            6                 1                2    0.258527   \n",
      "7        25            5                 2                1    0.169729   \n",
      "\n",
      "  valid_error  \n",
      "5    0.292994  \n",
      "2    0.298809  \n",
      "4    0.316852  \n",
      "6    0.317355  \n",
      "7    0.320896  \n"
     ]
    }
   ],
   "source": [
    "rolling_hyperparams = rolling_hyperparams.sort_values(['valid_error'])\n",
    "print rolling_hyperparams.head()"
   ]
  },
  {
   "cell_type": "code",
   "execution_count": 13,
   "metadata": {
    "collapsed": false
   },
   "outputs": [
    {
     "name": "stdout",
     "output_type": "stream",
     "text": [
      "1 0.387333203703\n",
      "2 0.359489317704\n",
      "3 0.345646284073\n",
      "5 0.323617221437\n",
      "10 0.298700182011\n",
      "50 0.300759223498\n",
      "100 0.298561385674\n",
      "200 0.292897655445\n",
      "300 0.293232347168\n",
      "500 0.294254389928\n",
      "1000 0.295025799827\n"
     ]
    }
   ],
   "source": [
    "number_of_trees = [1,2,3,5,10,50,100,200,300,500,1000]\n",
    "\n",
    "for nr in number_of_trees:\n",
    "    rf = RandomForestRegressor(n_estimators=nr,\n",
    "            max_features = 7,\n",
    "            min_samples_split = 2,\n",
    "            min_samples_leaf = 2,\n",
    "            max_depth = 35\n",
    "           )\n",
    "    rf.fit(X_train, Y_train)\n",
    "    Y_valid_pred = rf.predict(X_valid)\n",
    "    valid_score = rmsle(Y_valid_pred,Y_valid)\n",
    "    print nr, valid_score"
   ]
  },
  {
   "cell_type": "code",
   "execution_count": 18,
   "metadata": {
    "collapsed": false
   },
   "outputs": [
    {
     "name": "stdout",
     "output_type": "stream",
     "text": [
      "0.18190918406\n",
      "0.294356562954\n"
     ]
    }
   ],
   "source": [
    "classification_steps = [('random_forest',RandomForestRegressor(n_estimators=500,\n",
    "                                                     max_features = 6,\n",
    "                                                     min_samples_split = 1,\n",
    "                                                     min_samples_leaf = 1,\n",
    "                                                     max_depth = 15))]\n",
    "\n",
    "final_steps = prep_steps+classification_steps\n",
    "\n",
    "final_pipe = Pipeline(final_steps)\n",
    "final_pipe.fit(X_train,Y_train)\n",
    "\n",
    "Y_train_pred = final_pipe.predict(X_train)\n",
    "Y_valid_pred = final_pipe.predict(X_valid)\n",
    "result_train = rmsle(Y_train_pred,Y_train)\n",
    "result_valid = rmsle(Y_valid_pred,Y_valid)\n",
    "print result_train\n",
    "print result_valid"
   ]
  },
  {
   "cell_type": "code",
   "execution_count": 19,
   "metadata": {
    "collapsed": false
   },
   "outputs": [],
   "source": [
    "model_filepath = os.path.join(\"../\",\"models\",\"random_forest_simple_features_3_pipeline.pkl\")\n",
    "pickle_out(model_filepath,final_pipe,compresion_mode=5)"
   ]
  },
  {
   "cell_type": "code",
   "execution_count": null,
   "metadata": {
    "collapsed": true
   },
   "outputs": [],
   "source": []
  }
 ],
 "metadata": {
  "kernelspec": {
   "display_name": "Python 2",
   "language": "python",
   "name": "python2"
  },
  "language_info": {
   "codemirror_mode": {
    "name": "ipython",
    "version": 2
   },
   "file_extension": ".py",
   "mimetype": "text/x-python",
   "name": "python",
   "nbconvert_exporter": "python",
   "pygments_lexer": "ipython2",
   "version": "2.7.11"
  }
 },
 "nbformat": 4,
 "nbformat_minor": 0
}
