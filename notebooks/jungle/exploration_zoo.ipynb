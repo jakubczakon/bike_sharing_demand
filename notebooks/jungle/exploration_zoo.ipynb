{
 "cells": [
  {
   "cell_type": "code",
   "execution_count": 5,
   "metadata": {
    "collapsed": false
   },
   "outputs": [],
   "source": [
    "import os\n",
    "\n",
    "import numpy as np\n",
    "import pandas as pd\n",
    "\n",
    "# import seaborn as sb"
   ]
  },
  {
   "cell_type": "code",
   "execution_count": 8,
   "metadata": {
    "collapsed": false
   },
   "outputs": [],
   "source": [
    "data_folder = os.path.join(\"../\",\"datasets\",\"kaggle_sets\")\n",
    "\n",
    "train = pd.read_csv(os.path.join(data_folder,\"train.csv\"))"
   ]
  },
  {
   "cell_type": "code",
   "execution_count": 13,
   "metadata": {
    "collapsed": false
   },
   "outputs": [
    {
     "name": "stdout",
     "output_type": "stream",
     "text": [
      "              datetime  season  holiday  workingday  weather   temp   atemp  \\\n",
      "0  2011-01-01 00:00:00       1        0           0        1   9.84  14.395   \n",
      "1  2011-01-01 01:00:00       1        0           0        1   9.02  13.635   \n",
      "2  2011-01-01 02:00:00       1        0           0        1   9.02  13.635   \n",
      "3  2011-01-01 03:00:00       1        0           0        1   9.84  14.395   \n",
      "4  2011-01-01 04:00:00       1        0           0        1   9.84  14.395   \n",
      "5  2011-01-01 05:00:00       1        0           0        2   9.84  12.880   \n",
      "6  2011-01-01 06:00:00       1        0           0        1   9.02  13.635   \n",
      "7  2011-01-01 07:00:00       1        0           0        1   8.20  12.880   \n",
      "8  2011-01-01 08:00:00       1        0           0        1   9.84  14.395   \n",
      "9  2011-01-01 09:00:00       1        0           0        1  13.12  17.425   \n",
      "\n",
      "   humidity  windspeed  casual  registered  count  \n",
      "0        81     0.0000       3          13     16  \n",
      "1        80     0.0000       8          32     40  \n",
      "2        80     0.0000       5          27     32  \n",
      "3        75     0.0000       3          10     13  \n",
      "4        75     0.0000       0           1      1  \n",
      "5        75     6.0032       0           1      1  \n",
      "6        80     0.0000       2           0      2  \n",
      "7        86     0.0000       1           2      3  \n",
      "8        75     0.0000       1           7      8  \n",
      "9        76     0.0000       8           6     14  \n"
     ]
    }
   ],
   "source": [
    "print train.head(10)"
   ]
  },
  {
   "cell_type": "code",
   "execution_count": null,
   "metadata": {
    "collapsed": true
   },
   "outputs": [],
   "source": []
  }
 ],
 "metadata": {
  "kernelspec": {
   "display_name": "Python 2",
   "language": "python",
   "name": "python2"
  },
  "language_info": {
   "codemirror_mode": {
    "name": "ipython",
    "version": 2
   },
   "file_extension": ".py",
   "mimetype": "text/x-python",
   "name": "python",
   "nbconvert_exporter": "python",
   "pygments_lexer": "ipython2",
   "version": "2.7.11"
  }
 },
 "nbformat": 4,
 "nbformat_minor": 0
}
