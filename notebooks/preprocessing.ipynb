{
 "cells": [
  {
   "cell_type": "code",
   "execution_count": 19,
   "metadata": {
    "collapsed": true
   },
   "outputs": [],
   "source": [
    "import os\n",
    "\n",
    "import numpy as np\n",
    "import pandas as pd\n",
    "\n",
    "from sklearn.cross_validation import train_test_split"
   ]
  },
  {
   "cell_type": "code",
   "execution_count": 18,
   "metadata": {
    "collapsed": false
   },
   "outputs": [
    {
     "name": "stdout",
     "output_type": "stream",
     "text": [
      "(10886, 12) (8708, 12) (1089, 12) (1089, 12)\n"
     ]
    }
   ],
   "source": [
    "input_folder = os.path.join(\"../\",\"datasets\",\"kaggle_sets\")\n",
    "output_folder = os.path.join(\"../\",\"datasets\",\"initial_data_split\")\n",
    "data_all = pd.read_csv(os.path.join(data_folder,\"train.csv\"))\n",
    "tr_cut,vd_cut= int(0.8*data_all.shape[0]),int(0.9*data_all.shape[0])\n",
    "# train, test = train_test_split(data_all, train_size=0.9)\n",
    "train, valid, test = data_all[:tr_cut],data_all[tr_cut:vd_cut],data_all[vd_cut:]\n",
    "print data_all.shape, train.shape, valid.shape, test.shape\n",
    "\n",
    "train.to_csv(os.path.join(output_folder,\"train.csv\"),index=False)\n",
    "valid.to_csv(os.path.join(output_folder,\"valid.csv\"),index=False)\n",
    "test.to_csv(os.path.join(output_folder,\"test.csv\"), index=False)"
   ]
  },
  {
   "cell_type": "code",
   "execution_count": null,
   "metadata": {
    "collapsed": true
   },
   "outputs": [],
   "source": []
  }
 ],
 "metadata": {
  "kernelspec": {
   "display_name": "Python 2",
   "language": "python",
   "name": "python2"
  },
  "language_info": {
   "codemirror_mode": {
    "name": "ipython",
    "version": 2
   },
   "file_extension": ".py",
   "mimetype": "text/x-python",
   "name": "python",
   "nbconvert_exporter": "python",
   "pygments_lexer": "ipython2",
   "version": "2.7.11"
  }
 },
 "nbformat": 4,
 "nbformat_minor": 0
}
