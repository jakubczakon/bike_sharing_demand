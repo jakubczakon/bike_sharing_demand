{
 "cells": [
  {
   "cell_type": "code",
   "execution_count": 1,
   "metadata": {
    "collapsed": true
   },
   "outputs": [],
   "source": [
    "import os\n",
    "\n",
    "import numpy as np\n",
    "import pandas as pd\n",
    "\n",
    "from sklearn.cross_validation import train_test_split"
   ]
  },
  {
   "cell_type": "code",
   "execution_count": 3,
   "metadata": {
    "collapsed": false
   },
   "outputs": [],
   "source": [
    "input_folder = os.path.join(\"../\",\"datasets\",\"kaggle_sets\")\n",
    "output_folder = os.path.join(\"../\",\"datasets\",\"initial_data_split\")\n",
    "data_all = pd.read_csv(os.path.join(input_folder,\"train.csv\"))"
   ]
  },
  {
   "cell_type": "code",
   "execution_count": 31,
   "metadata": {
    "collapsed": false
   },
   "outputs": [
    {
     "name": "stdout",
     "output_type": "stream",
     "text": [
      "               datetime  season  holiday  workingday  weather  temp  atemp  \\\n",
      "277 2011-01-13 00:00:00       1        0           1        1  5.74   6.06   \n",
      "278 2011-01-13 01:00:00       1        0           1        1  5.74   6.06   \n",
      "279 2011-01-13 02:00:00       1        0           1        1  5.74   6.06   \n",
      "280 2011-01-13 03:00:00       1        0           1        1  5.74   6.06   \n",
      "281 2011-01-13 04:00:00       1        0           1        1  5.74   6.06   \n",
      "\n",
      "     humidity  windspeed  casual  registered  count  day_index  \n",
      "277        59    19.0012       1           6      7         13  \n",
      "278        50    19.0012       0           2      2         13  \n",
      "279        50    23.9994       0           2      2         13  \n",
      "280        50    22.0028       0           3      3         13  \n",
      "281        50    16.9979       0           4      4         13  \n",
      "               datetime  season  holiday  workingday  weather   temp   atemp  \\\n",
      "348 2011-01-16 00:00:00       1        0           0        1  10.66  15.150   \n",
      "349 2011-01-16 01:00:00       1        0           0        1  10.66  13.635   \n",
      "350 2011-01-16 02:00:00       1        0           0        1  10.66  14.395   \n",
      "351 2011-01-16 03:00:00       1        0           0        1   9.02  13.635   \n",
      "352 2011-01-16 04:00:00       1        0           0        1  10.66  12.880   \n",
      "\n",
      "     humidity  windspeed  casual  registered  count  \n",
      "348        56     0.0000       6          33     39  \n",
      "349        56     8.9981       4          19     23  \n",
      "350        56     6.0032       3          13     16  \n",
      "351        69     0.0000       9           6     15  \n",
      "352        56    11.0014       0           1      1  \n"
     ]
    }
   ],
   "source": [
    "data_all[\"datetime\"] =  pd.to_datetime(data_all[\"datetime\"], format=\"%Y-%m-%d %H:%M:%S\")\n",
    "data_all[\"day_index\"] = data_all[\"datetime\"].apply(lambda x: x.day)\n",
    "\n",
    "train = data_all[data_all[\"day_index\"] < 14]\n",
    "valid = data_all[(data_all[\"day_index\"] >= 13) & (data_all[\"day_index\"] < 16)]\n",
    "test = data_all[data_all[\"day_index\"] >= 16]\n",
    "\n",
    "print valid.head(5)\n",
    "\n",
    "train = train.drop([\"day_index\"], axis=1)\n",
    "valid = valid.drop([\"day_index\"], axis=1)\n",
    "test = test.drop([\"day_index\"], axis=1)\n",
    "\n",
    "print test.head(5)"
   ]
  },
  {
   "cell_type": "code",
   "execution_count": 32,
   "metadata": {
    "collapsed": false
   },
   "outputs": [
    {
     "name": "stdout",
     "output_type": "stream",
     "text": [
      "(10886, 13) (7452, 12) (1722, 12) (2286, 12)\n"
     ]
    }
   ],
   "source": [
    "print data_all.shape, train.shape, valid.shape, test.shape\n",
    "\n",
    "train.to_csv(os.path.join(output_folder,\"train.csv\"),index=False)\n",
    "valid.to_csv(os.path.join(output_folder,\"valid.csv\"),index=False)\n",
    "test.to_csv(os.path.join(output_folder,\"test.csv\"), index=False)"
   ]
  },
  {
   "cell_type": "code",
   "execution_count": null,
   "metadata": {
    "collapsed": true
   },
   "outputs": [],
   "source": []
  }
 ],
 "metadata": {
  "kernelspec": {
   "display_name": "Python 2",
   "language": "python",
   "name": "python2"
  },
  "language_info": {
   "codemirror_mode": {
    "name": "ipython",
    "version": 2
   },
   "file_extension": ".py",
   "mimetype": "text/x-python",
   "name": "python",
   "nbconvert_exporter": "python",
   "pygments_lexer": "ipython2",
   "version": "2.7.11"
  }
 },
 "nbformat": 4,
 "nbformat_minor": 0
}
