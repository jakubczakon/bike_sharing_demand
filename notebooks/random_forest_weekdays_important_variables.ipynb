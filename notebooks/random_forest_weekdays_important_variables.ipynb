{
 "cells": [
  {
   "cell_type": "code",
   "execution_count": 1,
   "metadata": {
    "collapsed": false
   },
   "outputs": [],
   "source": [
    "%load_ext autoreload\n",
    "%autoreload 2\n",
    "\n",
    "# from __future__ import absolute_import\n",
    "import sys\n",
    "sys.path.append(\"../\")\n",
    "\n",
    "import os\n",
    "\n",
    "import numpy as np\n",
    "import pandas as pd\n",
    "\n",
    "from sklearn.ensemble import RandomForestRegressor as RF\n",
    "from sklearn.grid_search import RandomizedSearchCV as RS\n",
    "from sklearn.pipeline import Pipeline\n",
    "from sklearn.metrics import mean_squared_error\n",
    "\n",
    "from scipy.stats import randint as sp_randint\n",
    "\n",
    "from utils.evaluation_utils import rmsle\n",
    "from utils.generic_utils import pickle_out\n",
    "from utils.preprocessing_utils import preprocess_weekdays_important,preprocess_weekdays_important_strict\n",
    "# import seaborn as sb"
   ]
  },
  {
   "cell_type": "code",
   "execution_count": 2,
   "metadata": {
    "collapsed": false
   },
   "outputs": [
    {
     "name": "stdout",
     "output_type": "stream",
     "text": [
      "(7452, 8) (7452,)\n",
      "(7452, 8) (7452,)\n"
     ]
    }
   ],
   "source": [
    "data_folder = os.path.join(\"../\",\"datasets\",\"initial_data_split\")\n",
    "\n",
    "train = pd.read_csv(os.path.join(data_folder,\"train.csv\"))\n",
    "valid = pd.read_csv(os.path.join(data_folder,\"valid.csv\"))\n",
    "\n",
    "X_train,Y_train = preprocess_weekdays_important(train,mode=\"train\")\n",
    "X_valid,Y_valid = preprocess_weekdays_important(valid,mode=\"train\")\n",
    "\n",
    "print X_train.shape,Y_train.shape\n",
    "\n",
    "print X_train.shape,Y_train.shape"
   ]
  },
  {
   "cell_type": "code",
   "execution_count": 3,
   "metadata": {
    "collapsed": false
   },
   "outputs": [
    {
     "data": {
      "text/html": [
       "<div>\n",
       "<table border=\"1\" class=\"dataframe\">\n",
       "  <thead>\n",
       "    <tr style=\"text-align: right;\">\n",
       "      <th></th>\n",
       "      <th>workingday</th>\n",
       "      <th>temp</th>\n",
       "      <th>atemp</th>\n",
       "      <th>humidity</th>\n",
       "      <th>time_hour</th>\n",
       "      <th>date_weekday</th>\n",
       "      <th>date_month</th>\n",
       "      <th>date_year</th>\n",
       "    </tr>\n",
       "  </thead>\n",
       "  <tbody>\n",
       "    <tr>\n",
       "      <th>0</th>\n",
       "      <td>0</td>\n",
       "      <td>9.84</td>\n",
       "      <td>14.395</td>\n",
       "      <td>81</td>\n",
       "      <td>0</td>\n",
       "      <td>5</td>\n",
       "      <td>1</td>\n",
       "      <td>2011</td>\n",
       "    </tr>\n",
       "    <tr>\n",
       "      <th>1</th>\n",
       "      <td>0</td>\n",
       "      <td>9.02</td>\n",
       "      <td>13.635</td>\n",
       "      <td>80</td>\n",
       "      <td>1</td>\n",
       "      <td>5</td>\n",
       "      <td>1</td>\n",
       "      <td>2011</td>\n",
       "    </tr>\n",
       "    <tr>\n",
       "      <th>2</th>\n",
       "      <td>0</td>\n",
       "      <td>9.02</td>\n",
       "      <td>13.635</td>\n",
       "      <td>80</td>\n",
       "      <td>2</td>\n",
       "      <td>5</td>\n",
       "      <td>1</td>\n",
       "      <td>2011</td>\n",
       "    </tr>\n",
       "    <tr>\n",
       "      <th>3</th>\n",
       "      <td>0</td>\n",
       "      <td>9.84</td>\n",
       "      <td>14.395</td>\n",
       "      <td>75</td>\n",
       "      <td>3</td>\n",
       "      <td>5</td>\n",
       "      <td>1</td>\n",
       "      <td>2011</td>\n",
       "    </tr>\n",
       "    <tr>\n",
       "      <th>4</th>\n",
       "      <td>0</td>\n",
       "      <td>9.84</td>\n",
       "      <td>14.395</td>\n",
       "      <td>75</td>\n",
       "      <td>4</td>\n",
       "      <td>5</td>\n",
       "      <td>1</td>\n",
       "      <td>2011</td>\n",
       "    </tr>\n",
       "  </tbody>\n",
       "</table>\n",
       "</div>"
      ],
      "text/plain": [
       "   workingday  temp   atemp  humidity  time_hour  date_weekday  date_month  \\\n",
       "0           0  9.84  14.395        81          0             5           1   \n",
       "1           0  9.02  13.635        80          1             5           1   \n",
       "2           0  9.02  13.635        80          2             5           1   \n",
       "3           0  9.84  14.395        75          3             5           1   \n",
       "4           0  9.84  14.395        75          4             5           1   \n",
       "\n",
       "   date_year  \n",
       "0       2011  \n",
       "1       2011  \n",
       "2       2011  \n",
       "3       2011  \n",
       "4       2011  "
      ]
     },
     "execution_count": 3,
     "metadata": {},
     "output_type": "execute_result"
    }
   ],
   "source": [
    "X_train.head(5)"
   ]
  },
  {
   "cell_type": "code",
   "execution_count": 4,
   "metadata": {
    "collapsed": false
   },
   "outputs": [
    {
     "data": {
      "text/plain": [
       "RandomForestRegressor(bootstrap=True, criterion='mse', max_depth=None,\n",
       "           max_features='auto', max_leaf_nodes=None, min_samples_leaf=1,\n",
       "           min_samples_split=2, min_weight_fraction_leaf=0.0,\n",
       "           n_estimators=10, n_jobs=1, oob_score=False, random_state=None,\n",
       "           verbose=0, warm_start=False)"
      ]
     },
     "execution_count": 4,
     "metadata": {},
     "output_type": "execute_result"
    }
   ],
   "source": [
    "rf = RF()\n",
    "rf.fit(X_train,Y_train)"
   ]
  },
  {
   "cell_type": "code",
   "execution_count": 5,
   "metadata": {
    "collapsed": false
   },
   "outputs": [
    {
     "name": "stdout",
     "output_type": "stream",
     "text": [
      "0.174503171831\n",
      "0.284703216384\n"
     ]
    }
   ],
   "source": [
    "Y_train_pred = rf.predict(X_train)\n",
    "Y_valid_pred = rf.predict(X_valid)\n",
    "\n",
    "print rmsle(Y_train_pred,Y_train)\n",
    "print rmsle(Y_valid_pred,Y_valid)"
   ]
  },
  {
   "cell_type": "code",
   "execution_count": 6,
   "metadata": {
    "collapsed": false
   },
   "outputs": [
    {
     "name": "stdout",
     "output_type": "stream",
     "text": [
      "Fitting 5 folds for each of 100 candidates, totalling 500 fits\n"
     ]
    },
    {
     "name": "stderr",
     "output_type": "stream",
     "text": [
      "[Parallel(n_jobs=3)]: Done  44 tasks      | elapsed:   23.8s\n",
      "[Parallel(n_jobs=3)]: Done 194 tasks      | elapsed:  1.8min\n",
      "[Parallel(n_jobs=3)]: Done 444 tasks      | elapsed:  4.0min\n",
      "[Parallel(n_jobs=3)]: Done 500 out of 500 | elapsed:  4.5min finished\n"
     ]
    }
   ],
   "source": [
    "steps = [('random_forest', RF(n_estimators=100))]\n",
    "\n",
    "pipe= Pipeline(steps)\n",
    "\n",
    "param_dist = {\"random_forest__max_depth\": [5,10,15,20],\n",
    "              \"random_forest__max_features\": sp_randint(1, 6),\n",
    "              \"random_forest__min_samples_split\": sp_randint(1, 6),\n",
    "              \"random_forest__min_samples_leaf\": sp_randint(1, 6)\n",
    "              }\n",
    "\n",
    "rf_cv = RS(pipe, \n",
    "           param_distributions=param_dist,\n",
    "           n_iter=100,           \n",
    "           cv=5,\n",
    "           verbose=1,\n",
    "           n_jobs=3,\n",
    "          )\n",
    "rf_cv.fit(X_train, Y_train)\n",
    "\n",
    "Y_valid_pred = rf_cv.predict(X_valid)\n",
    "valid_score = rmsle(Y_valid_pred,Y_valid)"
   ]
  },
  {
   "cell_type": "code",
   "execution_count": 7,
   "metadata": {
    "collapsed": false
   },
   "outputs": [
    {
     "name": "stdout",
     "output_type": "stream",
     "text": [
      "{'random_forest__min_samples_split': 3, 'random_forest__min_samples_leaf': 1, 'random_forest__max_features': 5, 'random_forest__max_depth': 20}\n",
      "0.284295749936\n"
     ]
    }
   ],
   "source": [
    "print rf_cv.best_params_\n",
    "print valid_score"
   ]
  },
  {
   "cell_type": "code",
   "execution_count": 8,
   "metadata": {
    "collapsed": false
   },
   "outputs": [
    {
     "name": "stdout",
     "output_type": "stream",
     "text": [
      "1 0.483369878553\n",
      "2 0.336238068307\n",
      "3 0.327379588048\n",
      "5 0.322107132102\n",
      "10 0.303635996078\n",
      "50 0.285588244462\n",
      "100 0.282819549007\n",
      "200 0.283556335039\n",
      "300 0.284580393186\n",
      "500 0.282991756713\n",
      "1000 0.283100314592\n"
     ]
    }
   ],
   "source": [
    "number_of_trees = [1,2,3,5,10,50,100,200,300,500,1000]\n",
    "\n",
    "for nr in number_of_trees:\n",
    "    rf = RF(n_estimators=nr,\n",
    "            max_features = 5,\n",
    "            min_samples_split = 3,\n",
    "            min_samples_leaf = 1,\n",
    "            max_depth = 20\n",
    "           )\n",
    "    rf.fit(X_train, Y_train)\n",
    "    Y_valid_pred = rf.predict(X_valid)\n",
    "    valid_score = rmsle(Y_valid_pred,Y_valid)\n",
    "    print nr, valid_score"
   ]
  },
  {
   "cell_type": "code",
   "execution_count": 9,
   "metadata": {
    "collapsed": false
   },
   "outputs": [
    {
     "data": {
      "text/plain": [
       "RandomForestRegressor(bootstrap=True, criterion='mse', max_depth=20,\n",
       "           max_features=5, max_leaf_nodes=None, min_samples_leaf=1,\n",
       "           min_samples_split=3, min_weight_fraction_leaf=0.0,\n",
       "           n_estimators=500, n_jobs=1, oob_score=False, random_state=None,\n",
       "           verbose=0, warm_start=False)"
      ]
     },
     "execution_count": 9,
     "metadata": {},
     "output_type": "execute_result"
    }
   ],
   "source": [
    "rf = RF(n_estimators = 500,\n",
    "        max_features = 5,\n",
    "        min_samples_split = 3,\n",
    "        min_samples_leaf = 1,\n",
    "        max_depth = 20,\n",
    "       )\n",
    "rf.fit(X_train,Y_train)"
   ]
  },
  {
   "cell_type": "code",
   "execution_count": 10,
   "metadata": {
    "collapsed": false
   },
   "outputs": [
    {
     "name": "stdout",
     "output_type": "stream",
     "text": [
      "0.282781195143\n"
     ]
    }
   ],
   "source": [
    "Y_valid_pred = rf.predict(X_valid)\n",
    "valid_score = rmsle(Y_valid_pred,Y_valid)\n",
    "print valid_score"
   ]
  },
  {
   "cell_type": "code",
   "execution_count": 11,
   "metadata": {
    "collapsed": false
   },
   "outputs": [],
   "source": [
    "model_filepath = os.path.join(\"../\",\"models\",\"random_forest_weekdays_important.pkl\")\n",
    "pickle_out(model_filepath,rf,compresion_mode=9)"
   ]
  },
  {
   "cell_type": "code",
   "execution_count": 3,
   "metadata": {
    "collapsed": false
   },
   "outputs": [
    {
     "name": "stdout",
     "output_type": "stream",
     "text": [
      "(7452, 5) (7452,)\n",
      "(7452, 5) (7452,)\n"
     ]
    }
   ],
   "source": [
    "data_folder = os.path.join(\"../\",\"datasets\",\"initial_data_split\")\n",
    "\n",
    "train = pd.read_csv(os.path.join(data_folder,\"train.csv\"))\n",
    "valid = pd.read_csv(os.path.join(data_folder,\"valid.csv\"))\n",
    "\n",
    "X_train,Y_train = preprocess_weekdays_important_strict(train,mode=\"train\")\n",
    "X_valid,Y_valid = preprocess_weekdays_important_strict(valid,mode=\"train\")\n",
    "\n",
    "print X_train.shape,Y_train.shape\n",
    "\n",
    "print X_train.shape,Y_train.shape"
   ]
  },
  {
   "cell_type": "code",
   "execution_count": 4,
   "metadata": {
    "collapsed": false
   },
   "outputs": [
    {
     "name": "stdout",
     "output_type": "stream",
     "text": [
      "Fitting 5 folds for each of 100 candidates, totalling 500 fits\n"
     ]
    },
    {
     "name": "stderr",
     "output_type": "stream",
     "text": [
      "[Parallel(n_jobs=3)]: Done  44 tasks      | elapsed:   25.3s\n",
      "[Parallel(n_jobs=3)]: Done 194 tasks      | elapsed:  1.7min\n",
      "[Parallel(n_jobs=3)]: Done 444 tasks      | elapsed:  3.8min\n",
      "[Parallel(n_jobs=3)]: Done 500 out of 500 | elapsed:  4.3min finished\n"
     ]
    }
   ],
   "source": [
    "steps = [('random_forest', RF(n_estimators=100))]\n",
    "\n",
    "pipe= Pipeline(steps)\n",
    "\n",
    "param_dist = {\"random_forest__max_depth\": [5,10,15,20],\n",
    "              \"random_forest__max_features\": sp_randint(1, 6),\n",
    "              \"random_forest__min_samples_split\": sp_randint(1, 6),\n",
    "              \"random_forest__min_samples_leaf\": sp_randint(1, 6)\n",
    "              }\n",
    "\n",
    "rf_cv = RS(pipe, \n",
    "           param_distributions=param_dist,\n",
    "           n_iter=100,           \n",
    "           cv=5,\n",
    "           verbose=1,\n",
    "           n_jobs=3,\n",
    "          )\n",
    "rf_cv.fit(X_train, Y_train)\n",
    "\n",
    "Y_valid_pred = rf_cv.predict(X_valid)\n",
    "valid_score = rmsle(Y_valid_pred,Y_valid)"
   ]
  },
  {
   "cell_type": "code",
   "execution_count": 5,
   "metadata": {
    "collapsed": false
   },
   "outputs": [
    {
     "name": "stdout",
     "output_type": "stream",
     "text": [
      "{'random_forest__min_samples_split': 4, 'random_forest__min_samples_leaf': 1, 'random_forest__max_features': 3, 'random_forest__max_depth': 20}\n",
      "0.385257877407\n"
     ]
    }
   ],
   "source": [
    "print rf_cv.best_params_\n",
    "print valid_score"
   ]
  },
  {
   "cell_type": "code",
   "execution_count": 6,
   "metadata": {
    "collapsed": false
   },
   "outputs": [
    {
     "name": "stdout",
     "output_type": "stream",
     "text": [
      "1 0.492437471848\n",
      "2 0.433237980401\n",
      "3 0.428760870021\n",
      "5 0.413447186146\n",
      "10 0.393340235553\n",
      "50 0.39361298094\n",
      "100 0.390330362741\n",
      "200 0.385030443076\n",
      "300 0.385757349051\n",
      "500 0.386418033198\n",
      "1000 0.385885465733\n"
     ]
    }
   ],
   "source": [
    "number_of_trees = [1,2,3,5,10,50,100,200,300,500,1000]\n",
    "\n",
    "for nr in number_of_trees:\n",
    "    rf = RF(n_estimators=nr,\n",
    "            max_features = 3,\n",
    "            min_samples_split = 4,\n",
    "            min_samples_leaf = 1,\n",
    "            max_depth = 20\n",
    "           )\n",
    "    rf.fit(X_train, Y_train)\n",
    "    Y_valid_pred = rf.predict(X_valid)\n",
    "    valid_score = rmsle(Y_valid_pred,Y_valid)\n",
    "    print nr, valid_score"
   ]
  },
  {
   "cell_type": "code",
   "execution_count": 7,
   "metadata": {
    "collapsed": false
   },
   "outputs": [
    {
     "data": {
      "text/plain": [
       "RandomForestRegressor(bootstrap=True, criterion='mse', max_depth=20,\n",
       "           max_features=3, max_leaf_nodes=None, min_samples_leaf=1,\n",
       "           min_samples_split=4, min_weight_fraction_leaf=0.0,\n",
       "           n_estimators=1000, n_jobs=1, oob_score=False, random_state=None,\n",
       "           verbose=0, warm_start=False)"
      ]
     },
     "execution_count": 7,
     "metadata": {},
     "output_type": "execute_result"
    }
   ],
   "source": [
    "rf = RF(n_estimators = 1000,\n",
    "        max_features = 3,\n",
    "        min_samples_split = 4,\n",
    "        min_samples_leaf = 1,\n",
    "        max_depth = 20,\n",
    "       )\n",
    "rf.fit(X_train,Y_train)"
   ]
  },
  {
   "cell_type": "code",
   "execution_count": 8,
   "metadata": {
    "collapsed": false
   },
   "outputs": [
    {
     "name": "stdout",
     "output_type": "stream",
     "text": [
      "0.385521517844\n"
     ]
    }
   ],
   "source": [
    "Y_valid_pred = rf.predict(X_valid)\n",
    "valid_score = rmsle(Y_valid_pred,Y_valid)\n",
    "print valid_score"
   ]
  },
  {
   "cell_type": "code",
   "execution_count": 9,
   "metadata": {
    "collapsed": true
   },
   "outputs": [],
   "source": [
    "model_filepath = os.path.join(\"../\",\"models\",\"random_forest_weekdays_important_strict.pkl\")\n",
    "pickle_out(model_filepath,rf,compresion_mode=9)"
   ]
  },
  {
   "cell_type": "code",
   "execution_count": null,
   "metadata": {
    "collapsed": true
   },
   "outputs": [],
   "source": []
  }
 ],
 "metadata": {
  "kernelspec": {
   "display_name": "Python 2",
   "language": "python",
   "name": "python2"
  },
  "language_info": {
   "codemirror_mode": {
    "name": "ipython",
    "version": 2
   },
   "file_extension": ".py",
   "mimetype": "text/x-python",
   "name": "python",
   "nbconvert_exporter": "python",
   "pygments_lexer": "ipython2",
   "version": "2.7.11"
  }
 },
 "nbformat": 4,
 "nbformat_minor": 0
}
