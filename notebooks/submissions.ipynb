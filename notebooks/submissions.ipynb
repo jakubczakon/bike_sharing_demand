{
 "cells": [
  {
   "cell_type": "code",
   "execution_count": 2,
   "metadata": {
    "collapsed": false
   },
   "outputs": [],
   "source": [
    "%load_ext autoreload\n",
    "%autoreload 2\n",
    "\n",
    "import sys\n",
    "sys.path.append(\"../\")\n",
    "\n",
    "import os\n",
    "from copy import copy\n",
    "\n",
    "import numpy as np\n",
    "import pandas as pd\n",
    "\n",
    "from utils.generic_utils import pickle_in,pickle_out\n",
    "import utils.preprocessing_utils as prep\n",
    "from utils.evaluation_utils import rmsle,log_pandas,inv_log_pandas"
   ]
  },
  {
   "cell_type": "code",
   "execution_count": 3,
   "metadata": {
    "collapsed": false
   },
   "outputs": [],
   "source": [
    "kaggle_folder = os.path.join(\"../\",\"datasets\",\"kaggle_sets\")\n",
    "kaggle_test = pd.read_csv(os.path.join(kaggle_folder,\"test.csv\"))\n",
    "\n",
    "initial_data_folder = os.path.join(\"../\",\"datasets\",\"initial_data_split\")\n",
    "initial_data_test = pd.read_csv(os.path.join(initial_data_folder,\"test.csv\"))"
   ]
  },
  {
   "cell_type": "code",
   "execution_count": 4,
   "metadata": {
    "collapsed": false
   },
   "outputs": [
    {
     "name": "stdout",
     "output_type": "stream",
     "text": [
      "              datetime  season  holiday  workingday  weather   temp   atemp  \\\n",
      "0  2011-01-20 00:00:00       1        0           1        1  10.66  11.365   \n",
      "1  2011-01-20 01:00:00       1        0           1        1  10.66  13.635   \n",
      "2  2011-01-20 02:00:00       1        0           1        1  10.66  13.635   \n",
      "3  2011-01-20 03:00:00       1        0           1        1  10.66  12.880   \n",
      "4  2011-01-20 04:00:00       1        0           1        1  10.66  12.880   \n",
      "\n",
      "   humidity  windspeed  \n",
      "0        56    26.0027  \n",
      "1        56     0.0000  \n",
      "2        56     0.0000  \n",
      "3        56    11.0014  \n",
      "4        56    11.0014  \n"
     ]
    }
   ],
   "source": [
    "print kaggle_test.head()"
   ]
  },
  {
   "cell_type": "code",
   "execution_count": 6,
   "metadata": {
    "collapsed": false
   },
   "outputs": [
    {
     "name": "stdout",
     "output_type": "stream",
     "text": [
      "Score on my testset: 0.344339419963\n",
      "\n",
      "             datetime      count\n",
      "0 2011-01-20 00:00:00  10.027556\n",
      "1 2011-01-20 01:00:00   3.805428\n",
      "2 2011-01-20 02:00:00   2.564287\n",
      "3 2011-01-20 03:00:00   3.069140\n",
      "4 2011-01-20 04:00:00   2.553922\n"
     ]
    },
    {
     "name": "stderr",
     "output_type": "stream",
     "text": [
      "/home/jakubczakon/anaconda2/lib/python2.7/site-packages/ipykernel/__main__.py:17: SettingWithCopyWarning: \n",
      "A value is trying to be set on a copy of a slice from a DataFrame.\n",
      "Try using .loc[row_indexer,col_indexer] = value instead\n",
      "\n",
      "See the caveats in the documentation: http://pandas.pydata.org/pandas-docs/stable/indexing.html#indexing-view-versus-copy\n"
     ]
    }
   ],
   "source": [
    "X_test = kaggle_test\n",
    "kaggle_datetime = kaggle_test[[\"datetime\"]]\n",
    "\n",
    "X_test_my = copy(initial_data_test).drop([\"count\",\"registered\",\"casual\"], axis=1)\n",
    "Y_test_my = copy(initial_data_test)[[\"count\"]]\n",
    "\n",
    "full_pipeline = pickle_in(os.path.join(\"../\",\"models\",\"rf_simple_features_best_pipeline.pkl\"),\n",
    "                          compresion_mode=5)\n",
    "\n",
    "Y_kaggle = pd.DataFrame(full_pipeline.predict(X_test)).apply(inv_log_pandas)\n",
    "Y_test_my_pred = pd.DataFrame(full_pipeline.predict(X_test_my)).apply(inv_log_pandas)\n",
    "\n",
    "test_error = rmsle(Y_test_my_pred.values.ravel(),\n",
    "                   Y_test_my.values.ravel())\n",
    "print \"Score on my testset: %s\\n\"%test_error\n",
    "\n",
    "kaggle_datetime[\"count\"] = Y_kaggle\n",
    "\n",
    "kaggle_datetime.to_csv(os.path.join(\"../\",\"submissions\",\n",
    "                                    \"rf_simple_features_best_submission.csv\"),index=False)\n",
    "\n",
    "print kaggle_datetime.head()"
   ]
  },
  {
   "cell_type": "code",
   "execution_count": null,
   "metadata": {
    "collapsed": true
   },
   "outputs": [],
   "source": []
  }
 ],
 "metadata": {
  "kernelspec": {
   "display_name": "Python 2",
   "language": "python",
   "name": "python2"
  },
  "language_info": {
   "codemirror_mode": {
    "name": "ipython",
    "version": 2
   },
   "file_extension": ".py",
   "mimetype": "text/x-python",
   "name": "python",
   "nbconvert_exporter": "python",
   "pygments_lexer": "ipython2",
   "version": "2.7.11"
  }
 },
 "nbformat": 4,
 "nbformat_minor": 0
}
