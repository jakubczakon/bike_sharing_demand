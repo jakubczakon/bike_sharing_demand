{
 "cells": [
  {
   "cell_type": "code",
   "execution_count": 3,
   "metadata": {
    "collapsed": false
   },
   "outputs": [
    {
     "name": "stdout",
     "output_type": "stream",
     "text": [
      "The autoreload extension is already loaded. To reload it, use:\n",
      "  %reload_ext autoreload\n"
     ]
    }
   ],
   "source": [
    "%load_ext autoreload\n",
    "%autoreload 2\n",
    "\n",
    "import sys\n",
    "sys.path.append(\"../\")\n",
    "\n",
    "import os\n",
    "from copy import copy\n",
    "\n",
    "import numpy as np\n",
    "import pandas as pd\n",
    "\n",
    "from utils.generic_utils import pickle_in,pickle_out\n",
    "import utils.preprocessing_utils as prep\n",
    "from utils.evaluation_utils import rmsle"
   ]
  },
  {
   "cell_type": "code",
   "execution_count": 4,
   "metadata": {
    "collapsed": false
   },
   "outputs": [],
   "source": [
    "kaggle_folder = os.path.join(\"../\",\"datasets\",\"kaggle_sets\")\n",
    "kaggle_test = pd.read_csv(os.path.join(kaggle_folder,\"test.csv\"))\n",
    "\n",
    "initial_data_folder = os.path.join(\"../\",\"datasets\",\"initial_data_split\")\n",
    "initial_data_test = pd.read_csv(os.path.join(initial_data_folder,\"test.csv\"))"
   ]
  },
  {
   "cell_type": "code",
   "execution_count": 5,
   "metadata": {
    "collapsed": false
   },
   "outputs": [
    {
     "name": "stdout",
     "output_type": "stream",
     "text": [
      "              datetime  season  holiday  workingday  weather   temp   atemp  \\\n",
      "0  2011-01-16 00:00:00       1        0           0        1  10.66  15.150   \n",
      "1  2011-01-16 01:00:00       1        0           0        1  10.66  13.635   \n",
      "2  2011-01-16 02:00:00       1        0           0        1  10.66  14.395   \n",
      "3  2011-01-16 03:00:00       1        0           0        1   9.02  13.635   \n",
      "4  2011-01-16 04:00:00       1        0           0        1  10.66  12.880   \n",
      "\n",
      "   humidity  windspeed  casual  registered  count  \n",
      "0        56     0.0000       6          33     39  \n",
      "1        56     8.9981       4          19     23  \n",
      "2        56     6.0032       3          13     16  \n",
      "3        69     0.0000       9           6     15  \n",
      "4        56    11.0014       0           1      1  \n"
     ]
    }
   ],
   "source": [
    "print initial_data_test.head()"
   ]
  },
  {
   "cell_type": "code",
   "execution_count": 6,
   "metadata": {
    "collapsed": false,
    "scrolled": true
   },
   "outputs": [
    {
     "name": "stdout",
     "output_type": "stream",
     "text": [
      "Score on my testset: 0.357134687056\n",
      "\n",
      "              datetime      count\n",
      "0  2011-01-20 00:00:00  10.807449\n",
      "1  2011-01-20 01:00:00   5.512882\n",
      "2  2011-01-20 02:00:00   3.399814\n",
      "3  2011-01-20 03:00:00   3.356646\n",
      "4  2011-01-20 04:00:00   3.045574\n"
     ]
    },
    {
     "name": "stderr",
     "output_type": "stream",
     "text": [
      "/home/jakubczakon/anaconda2/lib/python2.7/site-packages/ipykernel/__main__.py:15: SettingWithCopyWarning: \n",
      "A value is trying to be set on a copy of a slice from a DataFrame.\n",
      "Try using .loc[row_indexer,col_indexer] = value instead\n",
      "\n",
      "See the caveats in the documentation: http://pandas.pydata.org/pandas-docs/stable/indexing.html#indexing-view-versus-copy\n"
     ]
    }
   ],
   "source": [
    "X_test = kaggle_test\n",
    "kaggle_datetime = kaggle_test[[\"datetime\"]]\n",
    "\n",
    "X_test_my = copy(initial_data_test).drop([\"count\",\"registered\",\"casual\"], axis=1)\n",
    "Y_test_my = copy(initial_data_test)[[\"count\"]].values.ravel()\n",
    "\n",
    "full_pipeline = pickle_in(os.path.join(\"../\",\"models\",\"random_forest_weekdays_pipeline.pkl\"),compresion_mode=5)\n",
    "\n",
    "Y_kaggle = full_pipeline.predict(X_test)\n",
    "Y_test_my_pred = full_pipeline.predict(X_test_my)\n",
    "\n",
    "test_error = rmsle(Y_test_my_pred,Y_test_my)\n",
    "print \"Score on my testset: %s\\n\"%test_error\n",
    "\n",
    "kaggle_datetime[\"count\"] = Y_kaggle\n",
    "\n",
    "kaggle_datetime.to_csv(os.path.join(\"../\",\"submissions\",\n",
    "                                    \"random_forest_weekdays_submission.csv\"),index=False)\n",
    "\n",
    "print kaggle_datetime.head()"
   ]
  },
  {
   "cell_type": "code",
   "execution_count": null,
   "metadata": {
    "collapsed": true
   },
   "outputs": [],
   "source": []
  }
 ],
 "metadata": {
  "kernelspec": {
   "display_name": "Python 2",
   "language": "python",
   "name": "python2"
  },
  "language_info": {
   "codemirror_mode": {
    "name": "ipython",
    "version": 2
   },
   "file_extension": ".py",
   "mimetype": "text/x-python",
   "name": "python",
   "nbconvert_exporter": "python",
   "pygments_lexer": "ipython2",
   "version": "2.7.11"
  }
 },
 "nbformat": 4,
 "nbformat_minor": 0
}
