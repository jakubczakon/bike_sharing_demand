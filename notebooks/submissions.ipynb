{
 "cells": [
  {
   "cell_type": "code",
   "execution_count": 9,
   "metadata": {
    "collapsed": false
   },
   "outputs": [
    {
     "name": "stdout",
     "output_type": "stream",
     "text": [
      "The autoreload extension is already loaded. To reload it, use:\n",
      "  %reload_ext autoreload\n"
     ]
    }
   ],
   "source": [
    "%load_ext autoreload\n",
    "%autoreload 2\n",
    "\n",
    "import sys\n",
    "sys.path.append(\"../\")\n",
    "\n",
    "import os\n",
    "from copy import copy\n",
    "\n",
    "import numpy as np\n",
    "import pandas as pd\n",
    "\n",
    "from utils.generic_utils import pickle_in,pickle_out\n",
    "from utils.preprocessing_utils import preprocess_vanila,preprocess_weekdays,\\\n",
    "preprocess_weekdays_important,preprocess_weekdays_important_strict,generate_timelag_data\n",
    "from utils.evaluation_utils import rmsle"
   ]
  },
  {
   "cell_type": "code",
   "execution_count": 10,
   "metadata": {
    "collapsed": false
   },
   "outputs": [],
   "source": [
    "kaggle_folder = os.path.join(\"../\",\"datasets\",\"kaggle_sets\")\n",
    "kaggle_test = pd.read_csv(os.path.join(kaggle_folder,\"test.csv\"))\n",
    "\n",
    "initial_data_folder = os.path.join(\"../\",\"datasets\",\"initial_data_split\")\n",
    "initial_data_test = pd.read_csv(os.path.join(initial_data_folder,\"test.csv\"))"
   ]
  },
  {
   "cell_type": "code",
   "execution_count": 6,
   "metadata": {
    "collapsed": false
   },
   "outputs": [
    {
     "name": "stdout",
     "output_type": "stream",
     "text": [
      "              datetime  season  holiday  workingday  weather   temp   atemp  \\\n",
      "0  2011-01-16 00:00:00       1        0           0        1  10.66  15.150   \n",
      "1  2011-01-16 01:00:00       1        0           0        1  10.66  13.635   \n",
      "2  2011-01-16 02:00:00       1        0           0        1  10.66  14.395   \n",
      "3  2011-01-16 03:00:00       1        0           0        1   9.02  13.635   \n",
      "4  2011-01-16 04:00:00       1        0           0        1  10.66  12.880   \n",
      "\n",
      "   humidity  windspeed  casual  registered  count  \n",
      "0        56     0.0000       6          33     39  \n",
      "1        56     8.9981       4          19     23  \n",
      "2        56     6.0032       3          13     16  \n",
      "3        69     0.0000       9           6     15  \n",
      "4        56    11.0014       0           1      1  \n"
     ]
    }
   ],
   "source": [
    "print initial_data_test.head()"
   ]
  },
  {
   "cell_type": "code",
   "execution_count": 13,
   "metadata": {
    "collapsed": false
   },
   "outputs": [
    {
     "name": "stdout",
     "output_type": "stream",
     "text": [
      "Score on my testset: 1.35325450177\n",
      "\n",
      "              datetime      count\n",
      "0  2011-01-20 00:00:00  93.929831\n",
      "1  2011-01-20 01:00:00  88.386392\n",
      "2  2011-01-20 02:00:00  88.386392\n",
      "3  2011-01-20 03:00:00  91.854064\n",
      "4  2011-01-20 04:00:00  91.854064\n"
     ]
    }
   ],
   "source": [
    "vanila_rf_X_test,kaggle_datetime = preprocess_vanila(copy(kaggle_test),mode=\"test\")\n",
    "vanila_rf_X_test_my,vanila_rf_Y_test_my = preprocess_vanila(copy(initial_data_test),mode=\"train\")\n",
    "\n",
    "vanila_rf_filepath = os.path.join(\"../\",\"models\",\"random_forest_benchmark.pkl\")\n",
    "vanila_rf_model = pickle_in(vanila_rf_filepath,compresion_mode=9)\n",
    "\n",
    "vanila_rf_predictions_my = vanila_rf_model.predict(vanila_rf_X_test_my)\n",
    "test_error_vanila = rmsle(vanila_rf_predictions_my,vanila_rf_Y_test_my)\n",
    "print \"Score on my testset: %s\\n\"%test_error_vanila\n",
    "\n",
    "vanila_rf_predictions_kaggle = vanila_rf_model.predict(vanila_rf_X_test)\n",
    "\n",
    "kaggle_datetime[\"count\"] = vanila_rf_predictions_kaggle\n",
    "\n",
    "kaggle_datetime.to_csv(os.path.join(\"../\",\"submissions\",\"vanila_random_forest_submission.csv\"),index=False)\n",
    "\n",
    "print kaggle_datetime.head()"
   ]
  },
  {
   "cell_type": "code",
   "execution_count": 16,
   "metadata": {
    "collapsed": false
   },
   "outputs": [
    {
     "name": "stdout",
     "output_type": "stream",
     "text": [
      "Score on my testset: 0.443513975403\n",
      "\n",
      "             datetime      count\n",
      "0 2011-01-20 00:00:00  11.701341\n",
      "1 2011-01-20 01:00:00   6.254575\n",
      "2 2011-01-20 02:00:00   5.021566\n",
      "3 2011-01-20 03:00:00   3.772842\n",
      "4 2011-01-20 04:00:00   3.522983\n"
     ]
    },
    {
     "name": "stderr",
     "output_type": "stream",
     "text": [
      "/home/jakubczakon/anaconda2/lib/python2.7/site-packages/ipykernel/__main__.py:13: SettingWithCopyWarning: \n",
      "A value is trying to be set on a copy of a slice from a DataFrame.\n",
      "Try using .loc[row_indexer,col_indexer] = value instead\n",
      "\n",
      "See the caveats in the documentation: http://pandas.pydata.org/pandas-docs/stable/indexing.html#indexing-view-versus-copy\n"
     ]
    }
   ],
   "source": [
    "weekdays_rf_X_test,kaggle_datetime = preprocess_weekdays(kaggle_test,mode=\"test\")\n",
    "weekdays_rf_X_test_my,weekdays_rf_Y_test_my = preprocess_weekdays(copy(initial_data_test),mode=\"train\")\n",
    "\n",
    "weekdays_rf_filepath = os.path.join(\"../\",\"models\",\"random_forest_weekdays.pkl\")\n",
    "weekdays_rf_model = pickle_in(weekdays_rf_filepath,compresion_mode=9)\n",
    "\n",
    "weekdays_rf_predictions_my = weekdays_rf_model.predict(weekdays_rf_X_test_my)\n",
    "test_error_weekdays = rmsle(weekdays_rf_predictions_my,weekdays_rf_Y_test_my)\n",
    "print \"Score on my testset: %s\\n\"%test_error_weekdays\n",
    "\n",
    "weekdays_rf_predictions_kaggle = weekdays_rf_model.predict(weekdays_rf_X_test)\n",
    "\n",
    "kaggle_datetime[\"count\"] = weekdays_rf_predictions_kaggle\n",
    "\n",
    "kaggle_datetime.to_csv(os.path.join(\"../\",\"submissions\",\"weekdays_random_forest_submission.csv\"),index=False)\n",
    "\n",
    "print kaggle_datetime.head()"
   ]
  },
  {
   "cell_type": "code",
   "execution_count": 7,
   "metadata": {
    "collapsed": false
   },
   "outputs": [
    {
     "name": "stdout",
     "output_type": "stream",
     "text": [
      "Score on my testset: 0.36678664145\n",
      "\n",
      "             datetime      count\n",
      "0 2011-01-20 00:00:00  11.207681\n",
      "1 2011-01-20 01:00:00   4.625395\n",
      "2 2011-01-20 02:00:00   3.484807\n",
      "3 2011-01-20 03:00:00   3.862517\n",
      "4 2011-01-20 04:00:00   3.285333\n"
     ]
    },
    {
     "name": "stderr",
     "output_type": "stream",
     "text": [
      "/home/jakubczakon/anaconda2/lib/python2.7/site-packages/ipykernel/__main__.py:14: SettingWithCopyWarning: \n",
      "A value is trying to be set on a copy of a slice from a DataFrame.\n",
      "Try using .loc[row_indexer,col_indexer] = value instead\n",
      "\n",
      "See the caveats in the documentation: http://pandas.pydata.org/pandas-docs/stable/indexing.html#indexing-view-versus-copy\n"
     ]
    }
   ],
   "source": [
    "week_important_rf_X_test,kaggle_datetime = preprocess_weekdays_important(kaggle_test,mode=\"test\")\n",
    "week_important_rf_X_test_my,week_important_rf_Y_test_my = preprocess_weekdays_important(copy(initial_data_test),\n",
    "                                                                                                  mode=\"train\")\n",
    "\n",
    "week_important_rf_filepath = os.path.join(\"../\",\"models\",\"random_forest_weekdays_important.pkl\")\n",
    "week_important_rf_model = pickle_in(week_important_rf_filepath,compresion_mode=9)\n",
    "\n",
    "week_important_rf_predictions_my = week_important_rf_model.predict(week_important_rf_X_test_my)\n",
    "test_error_week_important = rmsle(week_important_rf_predictions_my,week_important_rf_Y_test_my)\n",
    "print \"Score on my testset: %s\\n\"%test_error_week_important\n",
    "\n",
    "week_important_rf_predictions_kaggle = week_important_rf_model.predict(week_important_rf_X_test)\n",
    "\n",
    "kaggle_datetime[\"count\"] = week_important_rf_predictions_kaggle\n",
    "\n",
    "kaggle_datetime.to_csv(os.path.join(\"../\",\"submissions\",\"weekdays_important_random_forest_submission.csv\"),index=False)\n",
    "\n",
    "print kaggle_datetime.head()"
   ]
  },
  {
   "cell_type": "code",
   "execution_count": 4,
   "metadata": {
    "collapsed": false
   },
   "outputs": [
    {
     "name": "stdout",
     "output_type": "stream",
     "text": [
      "Score on my testset: 0.456648264796\n",
      "\n",
      "             datetime      count\n",
      "0 2011-01-20 00:00:00  16.496286\n",
      "1 2011-01-20 01:00:00   4.574064\n",
      "2 2011-01-20 02:00:00   3.366823\n",
      "3 2011-01-20 03:00:00   4.589181\n",
      "4 2011-01-20 04:00:00   3.189846\n"
     ]
    }
   ],
   "source": [
    "week_imp_strict_rf_X_test,kaggle_datetime = preprocess_weekdays_important_strict(kaggle_test,mode=\"test\")\n",
    "week_imp_strict_rf_X_test_my,week_imp_strict_rf_Y_test_my = preprocess_weekdays_important_strict(copy(initial_data_test),\n",
    "                                                                                                  mode=\"train\")\n",
    "\n",
    "week_imp_strict_rf_filepath = os.path.join(\"../\",\"models\",\"random_forest_weekdays_important_strict.pkl\")\n",
    "week_imp_strict_rf_model = pickle_in(week_imp_strict_rf_filepath,compresion_mode=9)\n",
    "\n",
    "week_imp_strict_rf_predictions_my = week_imp_strict_rf_model.predict(week_imp_strict_rf_X_test_my)\n",
    "test_error_week_imp_strict = rmsle(week_imp_strict_rf_predictions_my,week_imp_strict_rf_Y_test_my)\n",
    "print \"Score on my testset: %s\\n\"%test_error_week_imp_strict\n",
    "\n",
    "week_imp_strict_rf_predictions_kaggle = week_imp_strict_rf_model.predict(week_imp_strict_rf_X_test)\n",
    "\n",
    "kaggle_datetime[\"count\"] = week_imp_strict_rf_predictions_kaggle\n",
    "\n",
    "kaggle_datetime.to_csv(os.path.join(\"../\",\"submissions\",\n",
    "                                    \"weekdays_important_strict_random_forest_submission.csv\"),index=False)\n",
    "\n",
    "print kaggle_datetime.head()"
   ]
  },
  {
   "cell_type": "code",
   "execution_count": 11,
   "metadata": {
    "collapsed": false
   },
   "outputs": [
    {
     "name": "stdout",
     "output_type": "stream",
     "text": [
      "Score on my testset: 0.521046071232\n",
      "\n",
      "             datetime     count\n",
      "0 2011-01-20 00:00:00  9.791667\n",
      "1 2011-01-20 01:00:00  5.539667\n",
      "2 2011-01-20 02:00:00  4.001667\n",
      "3 2011-01-20 03:00:00  3.931667\n",
      "4 2011-01-20 04:00:00  4.561667\n"
     ]
    }
   ],
   "source": [
    "week_lag_rf_X_test,kaggle_datetime = preprocess_weekdays(kaggle_test,mode=\"test\")\n",
    "week_lag_rf_X_test_my,week_lag_rf_Y_test_my = preprocess_weekdays(copy(initial_data_test),\n",
    "                                                                  mode=\"train\")\n",
    "\n",
    "week_lag_rf_X_test = generate_timelag_data(week_lag_rf_X_test,lag=5)\n",
    "week_lag_rf_X_test_my = generate_timelag_data(week_lag_rf_X_test_my,lag=5)\n",
    "\n",
    "week_lag_rf_X_test = week_lag_rf_X_test[['time_hour','date_year', \n",
    "                                         'workingday', 'atemp', 'date_month', 'temp',\n",
    "                                         'date_weekday', 'temp_lag_1', 'atemp_lag_1', \n",
    "                                         'humidity', 'season','humidity_lag_1', 'weather', \n",
    "                                         'weather_lag_1', 'atemp_lag_3']]\n",
    "week_lag_rf_X_test_my = week_lag_rf_X_test_my[['time_hour','date_year', 'workingday', \n",
    "                                               'atemp', 'date_month', 'temp',\n",
    "                                               'date_weekday', 'temp_lag_1', 'atemp_lag_1', \n",
    "                                               'humidity', 'season', 'humidity_lag_1', 'weather', \n",
    "                                               'weather_lag_1', 'atemp_lag_3']]\n",
    "\n",
    "week_lag_rf_filepath = os.path.join(\"../\",\"models\",\"random_forest_weekdays_lagged.pkl\")\n",
    "week_lag_rf_model = pickle_in(week_lag_rf_filepath,compresion_mode=9)\n",
    "\n",
    "week_lag_rf_predictions_my = week_lag_rf_model.predict(week_lag_rf_X_test_my)\n",
    "test_error_week_lag = rmsle(week_lag_rf_predictions_my,week_lag_rf_Y_test_my)\n",
    "print \"Score on my testset: %s\\n\"%test_error_week_lag\n",
    "\n",
    "week_lag_rf_predictions_kaggle = week_lag_rf_model.predict(week_lag_rf_X_test)\n",
    "\n",
    "kaggle_datetime[\"count\"] = week_lag_rf_predictions_kaggle\n",
    "\n",
    "kaggle_datetime.to_csv(os.path.join(\"../\",\"submissions\",\n",
    "                                    \"weekdays_lagged_random_forest_submission.csv\"),index=False)\n",
    "\n",
    "print kaggle_datetime.head()"
   ]
  },
  {
   "cell_type": "code",
   "execution_count": null,
   "metadata": {
    "collapsed": true
   },
   "outputs": [],
   "source": []
  }
 ],
 "metadata": {
  "kernelspec": {
   "display_name": "Python 2",
   "language": "python",
   "name": "python2"
  },
  "language_info": {
   "codemirror_mode": {
    "name": "ipython",
    "version": 2
   },
   "file_extension": ".py",
   "mimetype": "text/x-python",
   "name": "python",
   "nbconvert_exporter": "python",
   "pygments_lexer": "ipython2",
   "version": "2.7.11"
  }
 },
 "nbformat": 4,
 "nbformat_minor": 0
}
